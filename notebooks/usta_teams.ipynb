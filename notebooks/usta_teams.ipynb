{
 "cells": [
  {
   "cell_type": "markdown",
   "metadata": {},
   "source": [
    "### https://tschaume.github.io/usta_tennis/usta_teams.html\n",
    "\n",
    "Source code for scraping the data is [here](https://github.com/tschaume/usta_tennis). 27,377 USTA NorCal Pages as of 04/25/2020 (~120 pages/min)."
   ]
  },
  {
   "cell_type": "code",
   "execution_count": null,
   "metadata": {},
   "outputs": [],
   "source": [
    "from pandas import DataFrame\n",
    "from pymongo import MongoClient\n",
    "client = MongoClient()\n",
    "db = client['usta']"
   ]
  },
  {
   "cell_type": "code",
   "execution_count": null,
   "metadata": {},
   "outputs": [],
   "source": [
    "print(\"teams:\", db.teams.count_documents({}))\n",
    "print(\"registrations:\", db.registrations.count_documents({}))"
   ]
  },
  {
   "cell_type": "code",
   "execution_count": null,
   "metadata": {},
   "outputs": [],
   "source": [
    "# for y in [\"2016\"]:\n",
    "#     print(len(db.teams.distinct(\n",
    "#         \"league_url\",\n",
    "#         {\"season_name\": f\"{y} Mixed 40 & Over\", \"gender\": {\"$in\": [\"M\", \"W\"]}},\n",
    "#     )))\n",
    "db.teams.find_one({\"id\": 84866})"
   ]
  },
  {
   "cell_type": "code",
   "execution_count": null,
   "metadata": {},
   "outputs": [],
   "source": [
    "db.registrations.find_one({\"id\": '53045_54164'})"
   ]
  },
  {
   "cell_type": "markdown",
   "metadata": {},
   "source": [
    "## Overview"
   ]
  },
  {
   "cell_type": "code",
   "execution_count": null,
   "metadata": {},
   "outputs": [],
   "source": [
    "import plotly.io as pio\n",
    "import plotly.express as px\n",
    "pio.renderers.default = \"notebook\""
   ]
  },
  {
   "cell_type": "code",
   "execution_count": null,
   "metadata": {},
   "outputs": [],
   "source": [
    "from collections import Counter, defaultdict\n",
    "\n",
    "def get_season(comp, age):\n",
    "    return f\"{comp} {age} & Over\"\n",
    "\n",
    "\n",
    "def get_figure(season_groups, min_matches=0):\n",
    "    print(f\"min_matches: {min_matches}\")\n",
    "    data = defaultdict(list)\n",
    "    hdata = defaultdict(list)\n",
    "    years = list(map(str, db.teams.distinct(\"year\")))\n",
    "    years.remove(\"2012\")\n",
    "    years.remove(\"2014\")\n",
    "    years.remove(\"2020\")\n",
    "\n",
    "    for year in years:\n",
    "\n",
    "        container = defaultdict(dict)\n",
    "        for group, seasons in season_groups.items():\n",
    "            print(year, group)\n",
    "\n",
    "            teams = []\n",
    "            for season in seasons:\n",
    "                q = {\n",
    "                    \"year\": year,\n",
    "                    \"season_name\": f\"{year} {season}\",\n",
    "                    \"gender\": {\"$in\": [\"M\", \"W\", \"O\"]}  # exclude daytime\n",
    "                    #\"level\": \"3.0\"\n",
    "                }\n",
    "\n",
    "                pipeline = [\n",
    "                    {\"$match\": {\"team_id\": {\"$in\": db.teams.distinct(\"id\", q)}}},\n",
    "#                     {\"$project\": {\n",
    "#                         \"team_id\": 1, \"player_id\": 1, \"id\": 1, \"win\": 1, \"loss\": 1\n",
    "#                     }}\n",
    "                ]\n",
    "\n",
    "                if group.endswith(\"Only\"):\n",
    "                    ref_group = group.replace(\" Only\", \"\")\n",
    "                    if \"18\" in ref_group:\n",
    "                        ref_group = ref_group.replace(\"18\", \"40\")\n",
    "                    elif \"40\" in ref_group:\n",
    "                        ref_group = ref_group.replace(\"40\", \"18\")\n",
    "                    pipeline.append({\"$match\": {\n",
    "                        \"player_id\": {\"$nin\": list(container[ref_group][\"players\"])}\n",
    "                    }})\n",
    "\n",
    "\n",
    "                pipeline.append({\"$group\": {\n",
    "                    \"_id\": \"$team_id\", \"registrations\": {\n",
    "                        \"$push\": {\n",
    "                            \"id\": \"$id\", \"pid\": \"$player_id\",\n",
    "                            \"matches\": {\"$add\": [\"$win\", \"$loss\"]},\n",
    "                            \"postseason\": {\"$add\": [\"$playoffs\", \"$districts\", \"$sectionals\"]}\n",
    "                        }\n",
    "                    }\n",
    "                }})\n",
    "\n",
    "                teams += list(db.registrations.aggregate(pipeline))\n",
    "\n",
    "\n",
    "            container[group] = defaultdict(set)\n",
    "            for t in teams:\n",
    "                spots = 0\n",
    "                for r in t[\"registrations\"]:\n",
    "                    nmatches = r[\"matches\"] - r[\"postseason\"]\n",
    "                    spots += nmatches\n",
    "                    if nmatches >= min_matches:\n",
    "                        container[group][\"registrations\"].add(r[\"id\"])\n",
    "                        container[group][\"players\"].add(r[\"pid\"])  \n",
    "                        \n",
    "                hdata['year'].append(int(year))\n",
    "                hdata['group'].append(group)\n",
    "                hdata['category'].append('nregs_per_spot')\n",
    "                hdata['number'].append(spots / len(t[\"registrations\"]))  \n",
    "                hdata['id'].append(t[\"_id\"])\n",
    "\n",
    "            for k, v in container[group].items():\n",
    "                data['year'].append(int(year))\n",
    "                data['group'].append(group)\n",
    "                data['category'].append(k)\n",
    "                data['number'].append(len(v))\n",
    "\n",
    "    #df = DataFrame(data=data)\n",
    "    #print(df)\n",
    "    #fig = px.scatter(df, x='year', y='number', facet_col='category', color=\"group\", trendline=\"ols\")\n",
    "    #fig.show()\n",
    "    #return fig\n",
    "    \n",
    "    return DataFrame(data=hdata)\n",
    "    \n",
    "    \n",
    "    \n",
    "\n",
    "def calculate_fees(year, season_groups, min_matches=0):\n",
    "    fig = get_figure(season_groups, min_matches=min_matches)\n",
    "    results = px.get_trendline_results(fig)\n",
    "    \n",
    "    fees = defaultdict(dict)\n",
    "    league_fees = {\n",
    "        #2011: 23, 2012: 25,\n",
    "        2013: 26, 2014: 26, 2015: 27,\n",
    "        2016: 28, 2017: 28, 2019: 28,\n",
    "        2020: 29\n",
    "    }\n",
    "    facility_fee = 25\n",
    "    membership_fee = 44\n",
    "\n",
    "    for group in season_groups.keys():\n",
    "        params = {\n",
    "            cat: results.query(\n",
    "                f\"group == '{group}' and category == '{cat}'\"\n",
    "            ).px_fit_results.iloc[0].params\n",
    "            for cat in [\"registrations\", \"players\"]\n",
    "        }\n",
    "\n",
    "        registrations = params[\"registrations\"][0] + params[\"registrations\"][1] * year\n",
    "        players = params[\"players\"][0] + params[\"players\"][1] * year\n",
    "        #print(year, registrations, params)\n",
    "        fees[group][\"league\"] = registrations * league_fees[year]\n",
    "        fees[group][\"facility\"] = registrations * facility_fee if year > 2019 else 0\n",
    "#         fees[group][\"league\"] = players * league_fees[year]\n",
    "#         fees[group][\"facility\"] = players * facility_fee if year > 2019 else 0\n",
    "        fees[group][\"membership\"] = players * membership_fee\n",
    "\n",
    "    return fees"
   ]
  },
  {
   "cell_type": "markdown",
   "metadata": {},
   "source": [
    "### Trend and projections"
   ]
  },
  {
   "cell_type": "code",
   "execution_count": null,
   "metadata": {
    "scrolled": false
   },
   "outputs": [],
   "source": [
    "season_groups = {}\n",
    "for comp in [\"Adult\"]:#, \"Mixed\"]:\n",
    "    #season_groups[comp] = get_seasons(comp, [18, 40])\n",
    "    season_groups[f\"{comp} 40 & Over\"] = [get_season(comp, 40)]\n",
    "    season_groups[f\"{comp} 18 & Over\"] = [get_season(comp, 18)]\n",
    "    #season_groups[f\"{comp} 40 & Over Only\"] = get_seasons(comp, [40])\n",
    "    #season_groups[f\"{comp} 18 & Over Only\"] = get_seasons(comp, [18])\n",
    "    #season_groups[f\"{comp} 40/55/65/70+\"] = get_seasons(comp, [40, 55, 65, 70])\n",
    "\n",
    "fees = calculate_fees(2020, season_groups)"
   ]
  },
  {
   "cell_type": "code",
   "execution_count": null,
   "metadata": {},
   "outputs": [],
   "source": [
    "print(fees)\n",
    "total_fees = Counter()\n",
    "for dct in fees.values():\n",
    "    for k, v in dct.items():\n",
    "        total_fees[k] += v\n",
    "        \n",
    "total_fees    "
   ]
  },
  {
   "cell_type": "markdown",
   "metadata": {},
   "source": [
    "### Team Viability"
   ]
  },
  {
   "cell_type": "code",
   "execution_count": null,
   "metadata": {},
   "outputs": [],
   "source": [
    "name = \"Adult & Mixed\"\n",
    "season_groups = {\n",
    "    name: [\n",
    "        get_season(comp, age)\n",
    "        for age in [\"18\", \"40\", \"55\", \"65\", \"70\"]\n",
    "        for comp in [\"Adult\", \"Mixed\"]\n",
    "    ]\n",
    "}"
   ]
  },
  {
   "cell_type": "code",
   "execution_count": null,
   "metadata": {},
   "outputs": [],
   "source": [
    "df = get_figure(season_groups)"
   ]
  },
  {
   "cell_type": "code",
   "execution_count": null,
   "metadata": {},
   "outputs": [],
   "source": [
    "px.histogram(df, x=\"number\", nbins=40) #marginal=\"rug\", hover_data=df.columns)\n"
   ]
  },
  {
   "cell_type": "markdown",
   "metadata": {},
   "source": [
    "### Revenue"
   ]
  },
  {
   "cell_type": "code",
   "execution_count": null,
   "metadata": {},
   "outputs": [],
   "source": [
    "\n",
    "revenues = {}\n",
    "revenues[\"2019\"] = calculate_fees(2019, season_groups)[name]\n",
    "\n",
    "for min_matches in [0, 3, 4]:\n",
    "    revenues[str(min_matches)] = calculate_fees(2020, season_groups, min_matches=min_matches)[name]\n",
    "    \n",
    "revenues"
   ]
  },
  {
   "cell_type": "code",
   "execution_count": null,
   "metadata": {},
   "outputs": [],
   "source": [
    "data = defaultdict(list)\n",
    "xaxis = \"expected minimum number of matches (N) per registration with facility fee in effect\"\n",
    "yaxis = \"difference in revenue vs 2019\"\n",
    "color = \"fee type\"\n",
    "\n",
    "for k in list(revenues.keys())[1:]:\n",
    "    scenario = \"no change\" if k == \"0\" else f\"N = {k}\"\n",
    "    for typ, revenue in revenues[k].items():\n",
    "        data[xaxis].append(scenario)\n",
    "        data[color].append(typ)\n",
    "        data[yaxis].append(revenue - revenues[\"2019\"][typ])\n",
    "\n",
    "df = DataFrame(data=data)\n",
    "fig = px.bar(df, x=xaxis, y=yaxis, color=color, barmode=\"group\")\n",
    "r2019 = sum(revenues[\"2019\"].values()) / 1e6\n",
    "fig[\"layout\"][\"title\"] = f\"Projections for 2020 Revenue compared to ${r2019:.3g}M in 2019\"\n",
    "fig.show()"
   ]
  },
  {
   "cell_type": "code",
   "execution_count": null,
   "metadata": {},
   "outputs": [],
   "source": [
    "px.data.tips()"
   ]
  },
  {
   "cell_type": "code",
   "execution_count": null,
   "metadata": {},
   "outputs": [],
   "source": []
  },
  {
   "cell_type": "markdown",
   "metadata": {},
   "source": [
    "- 2017 -> 2018 Adult 40+ change from 3 to 5 lines\n",
    "  * normalize number of teams on number of registrations per team to account for roster size\n",
    "    (regulations, availability and other captain decisions)\n",
    "  * \"\n",
    "  * enable grouping arbitrary leagues and levels\n",
    "  * also reveal effects of players deciding to play on less teams due to fee hike\n",
    "    (level and/or area)\n",
    "\n",
    "- 2014 -> 2015 Start of Daytime leagues\n",
    "\n",
    "---\n",
    "\n",
    "- players aged 40 and older, can decide one of the following every year:\n",
    "  * play both \"18 & Over\" and \"40 & Over\" (this should be the majority)\n",
    "  * only play \"40 & Over\" (this should be a small number)\n",
    "  * only play \"18 & Over\" (this should be a negligible number)\n",
    "\n",
    "- 18+ consists of age brackets 18-40 and 40+\n",
    "- anyone who doesn't play \"40 & Over\" is considered younger than 40 (i.e. in the 18-40 age bracket above)\n",
    "- so the assumption is that anyone who can play \"40 & Over\" actually does\n",
    "- \n",
    "\n",
    "\n",
    "---\n",
    "\n",
    "- 861 captains registered 936 teams for 212 organizations in the 2020 Adult 18 & Over season\n",
    "- the number of 18+ captains declined by 24% over the last 8 years (14% for 40+) for both Adult and Mixed\n",
    "- 2020 Adult 18+ has 281 teams less than 2013. With about 15 players per team, USTA NorCal misses out on about $120,000 in registration fees on that league alone.\n",
    "- the number of organizations went down by 11\\% and 6\\%, respectively, over the same time period"
   ]
  },
  {
   "cell_type": "markdown",
   "metadata": {},
   "source": [
    "## save seasons and teams as spreadsheets\n",
    "\n",
    "[spreadsheet](https://docs.google.com/spreadsheets/d/1yWcF0jrou2mkADM2q9PEhWy5uLwSjZiUXX7a6LJD1uw/edit?usp=sharing) with 66 seasons and 26822 teams in total\n",
    "\n",
    "- each tab contains all teams for one season\n",
    "- daytime, combo or tri-level not included\n",
    "- columns: team, year, gender, level, captain, city, area, organization\n",
    "- direct links to the pages for teams, captains and organizations also included"
   ]
  },
  {
   "cell_type": "code",
   "execution_count": null,
   "metadata": {},
   "outputs": [],
   "source": [
    "from pandas import ExcelWriter\n",
    "\n",
    "def save_xls(dct, xls_path='usta_teams.xlsx'):\n",
    "    writer = ExcelWriter(xls_path)\n",
    "    for name, s in dct.items():\n",
    "        s.to_excel(writer, sheet_name=name)\n",
    "    writer.save()"
   ]
  },
  {
   "cell_type": "code",
   "execution_count": null,
   "metadata": {},
   "outputs": [],
   "source": [
    "seasons = entries.distinct(\"season_name\")\n",
    "len(seasons)"
   ]
  },
  {
   "cell_type": "code",
   "execution_count": null,
   "metadata": {},
   "outputs": [],
   "source": [
    "skip = ['_id', 'id', 'league', 'season_id', 'season_name']\n",
    "projection = {k: 0 for k in skip}\n",
    "columns = list(entries.find_one({}, projection).keys())\n",
    "columns"
   ]
  },
  {
   "cell_type": "code",
   "execution_count": null,
   "metadata": {},
   "outputs": [],
   "source": [
    "sheets = {}\n",
    "\n",
    "for season in reversed(seasons):\n",
    "    docs = entries.find({\"season_name\": season}, projection)\n",
    "    print(season, docs.count())\n",
    "    data = {c: [] for c in columns} \n",
    "    for doc in docs:\n",
    "        for k, v in doc.items():\n",
    "            data[k].append(v)\n",
    "\n",
    "    season = season.replace('/', ' ')[:32]\n",
    "    sheets[season] = DataFrame(data=data)\n",
    "    sheets[season].set_index('team', inplace=True)\n",
    "    sheets[season].sort_values(by=['year', 'gender', 'level', 'team'], inplace=True)\n",
    "\n",
    "save_xls(sheets)\n",
    "print('DONE')"
   ]
  }
 ],
 "metadata": {
  "kernelspec": {
   "display_name": "Python 3",
   "language": "python",
   "name": "python3"
  },
  "language_info": {
   "codemirror_mode": {
    "name": "ipython",
    "version": 3
   },
   "file_extension": ".py",
   "mimetype": "text/x-python",
   "name": "python",
   "nbconvert_exporter": "python",
   "pygments_lexer": "ipython3",
   "version": "3.7.1"
  }
 },
 "nbformat": 4,
 "nbformat_minor": 2
}
