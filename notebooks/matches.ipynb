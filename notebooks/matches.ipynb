{
 "cells": [
  {
   "cell_type": "code",
   "execution_count": null,
   "metadata": {
    "collapsed": false
   },
   "outputs": [],
   "source": [
    "%load_ext autoreload\n",
    "%autoreload 2\n",
    "import pymongo, math, sys, pandas\n",
    "from usta_tennis.utils import *\n",
    "from usta_tennis.crd import crd\n",
    "from usta_tennis.drv import drv\n",
    "import matplotlib.pyplot as plt\n",
    "%matplotlib inline"
   ]
  },
  {
   "cell_type": "code",
   "execution_count": null,
   "metadata": {
    "collapsed": false
   },
   "outputs": [],
   "source": [
    "df_dyn = pandas.read_csv('../schmidt_ratings/ntrp_patrick_dynamic.csv', header=None)\n",
    "df_sd = pandas.read_csv('../schmidt_ratings/ntrp_patrick_singles-doubles.csv', header=None)"
   ]
  },
  {
   "cell_type": "code",
   "execution_count": null,
   "metadata": {
    "collapsed": false
   },
   "outputs": [],
   "source": [
    "client = pymongo.MongoClient('mongodb://localhost:27017')\n",
    "players, matches = client['usta'].players, client['usta'].matches\n",
    "matches.count()"
   ]
  },
  {
   "cell_type": "code",
   "execution_count": null,
   "metadata": {
    "collapsed": true
   },
   "outputs": [],
   "source": [
    "player = players.find_one({'last_name': 'Huck', 'first_name': 'Patrick'})\n",
    "print(player['_id'])\n",
    "player = players.find_one({'last_name': 'Huck', 'first_name': 'Johanna'})\n",
    "print(player['_id'])\n",
    "player = players.find_one({'last_name': 'Melnik', 'first_name': 'Artem'})\n",
    "print(player['_id'])\n",
    "player = players.find_one({'last_name': 'Sorrell', 'first_name': 'Greg'})\n",
    "print(player['_id'])\n",
    "player = players.find_one({'last_name': 'Vejsada', 'first_name': 'Jan'})\n",
    "print(player['_id'])\n",
    "player = players.find_one({'last_name': 'Walker', 'first_name': 'Bruno'})\n",
    "print(player['_id'])\n",
    "player = players.find_one({'last_name': 'Wachter', 'first_name': 'Patrick'})\n",
    "print(player['_id'])\n",
    "player = players.find_one({'last_name': 'Pegels', 'first_name': 'Kevin'})\n",
    "print(player['_id'])\n",
    "player = players.find_one({'last_name': 'Kettering', 'first_name': 'Hunter'})\n",
    "print(player['_id'])\n",
    "player = players.find_one({'last_name': 'Wall', 'first_name': 'Gavin'})\n",
    "print(player['_id'])\n",
    "player = players.find_one({'last_name': 'Unno', 'first_name': 'Chris'})\n",
    "print(player['_id'])\n",
    "player = players.find_one({'last_name': 'Sani', 'first_name': 'Will'})\n",
    "print(player['_id'])"
   ]
  },
  {
   "cell_type": "code",
   "execution_count": null,
   "metadata": {
    "collapsed": false
   },
   "outputs": [],
   "source": [
    "d = drv(2016)"
   ]
  },
  {
   "cell_type": "code",
   "execution_count": null,
   "metadata": {
    "collapsed": false
   },
   "outputs": [],
   "source": [
    "plt.plot(d[169636], label='P. Huck')\n",
    "# plt.plot(d[186081], label='J. Huck')\n",
    "# plt.plot(d[78753], label='Melnik')\n",
    "# plt.plot(d[13068], label='Sorrell')\n",
    "# plt.plot(d[172087], label='Vejsada')\n",
    "# plt.plot(d[136400], label='Walker')\n",
    "# plt.plot(d[149057], label='Wachter')\n",
    "# plt.plot(d[92290], label='Pegels')\n",
    "# plt.plot(d[41147], label='Kettering')\n",
    "# plt.plot(d[178039], label='Wall')\n",
    "# plt.plot(d[97025], label='Unno')\n",
    "# plt.plot(d[159624], label='Sani')\n",
    "plt.plot(df_dyn[1], label='NTRP Dyn')\n",
    "plt.plot([None] + list(df_sd[1]), label='NTRP S/D')\n",
    "plt.legend(loc='center left', bbox_to_anchor=(1, 0.5))\n",
    "plt.grid(True)\n",
    "plt.show()\n",
    "# TODO no adjustment when playing against self-rated player"
   ]
  }
 ],
 "metadata": {
  "kernelspec": {
   "display_name": "Python 3",
   "language": "python",
   "name": "python3"
  },
  "language_info": {
   "codemirror_mode": {
    "name": "ipython",
    "version": 3
   },
   "file_extension": ".py",
   "mimetype": "text/x-python",
   "name": "python",
   "nbconvert_exporter": "python",
   "pygments_lexer": "ipython3",
   "version": "3.5.2"
  }
 },
 "nbformat": 4,
 "nbformat_minor": 0
}
