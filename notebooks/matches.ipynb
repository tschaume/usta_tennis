{
 "cells": [
  {
   "cell_type": "code",
   "execution_count": null,
   "metadata": {
    "collapsed": false
   },
   "outputs": [],
   "source": [
    "%load_ext autoreload\n",
    "%autoreload 2\n",
    "import pymongo, math, sys, pandas\n",
    "from usta_tennis.utils import *\n",
    "from usta_tennis.crd import crd\n",
    "import matplotlib.pyplot as plt\n",
    "%matplotlib inline"
   ]
  },
  {
   "cell_type": "code",
   "execution_count": null,
   "metadata": {
    "collapsed": false
   },
   "outputs": [],
   "source": [
    "df_dyn = pandas.read_csv('../schmidt_ratings/ntrp_patrick_dynamic.csv', header=None)\n",
    "df_sd = pandas.read_csv('../schmidt_ratings/ntrp_patrick_singles-doubles.csv', header=None)"
   ]
  },
  {
   "cell_type": "code",
   "execution_count": null,
   "metadata": {
    "collapsed": false
   },
   "outputs": [],
   "source": [
    "client = pymongo.MongoClient('mongodb://localhost:27017')\n",
    "players, matches = client['usta'].players, client['usta'].matches\n",
    "matches.count()\n",
    "player = players.find_one({'last_name': 'Huck', 'first_name': 'Patrick'})\n",
    "print(player['_id'])\n",
    "player = players.find_one({'last_name': 'Huck', 'first_name': 'Johanna'})\n",
    "print(player['_id'])\n",
    "player = players.find_one({'last_name': 'Melnik', 'first_name': 'Artem'})\n",
    "print(player['_id'])\n",
    "player = players.find_one({'last_name': 'Sorrell', 'first_name': 'Greg'})\n",
    "print(player['_id'])\n",
    "player = players.find_one({'last_name': 'Vejsada', 'first_name': 'Jan'})\n",
    "print(player['_id'])\n",
    "player = players.find_one({'last_name': 'Walker', 'first_name': 'Bruno'})\n",
    "print(player['_id'])\n",
    "player = players.find_one({'last_name': 'Wachter', 'first_name': 'Patrick'})\n",
    "print(player['_id'])\n",
    "player = players.find_one({'last_name': 'Pegels', 'first_name': 'Kevin'})\n",
    "print(player['_id'])\n",
    "player = players.find_one({'last_name': 'Kettering', 'first_name': 'Hunter'})\n",
    "print(player['_id'])\n",
    "player = players.find_one({'last_name': 'Wall', 'first_name': 'Gavin'})\n",
    "print(player['_id'])\n",
    "player = players.find_one({'last_name': 'Unno', 'first_name': 'Chris'})\n",
    "print(player['_id'])\n",
    "player = players.find_one({'last_name': 'Sani', 'first_name': 'Will'})\n",
    "print(player['_id'])\n"
   ]
  },
  {
   "cell_type": "code",
   "execution_count": null,
   "metadata": {
    "collapsed": false
   },
   "outputs": [],
   "source": [
    "drv = {} # dynamic rating values (last three for each player id)\n",
    "missing_players = []\n",
    "for imatch, match in enumerate(matches.find().sort('date')):\n",
    "    for sd in ['singles', 'doubles']:\n",
    "        for individual_match in match[sd]:\n",
    "            skip = False\n",
    "            score = individual_match['score']\n",
    "            if score[0] == 'Double Default':\n",
    "                continue\n",
    "            if nr_sets_completed(score) < 2:\n",
    "                continue # retired\n",
    "            default = False\n",
    "            dr = {}\n",
    "            for wl in ['winner', 'loser']:\n",
    "                id_or_ids = individual_match[wl]\n",
    "                ids = id_or_ids if isinstance(id_or_ids, list) else [id_or_ids]\n",
    "                if None in ids:\n",
    "                    default = True\n",
    "                    break # default    \n",
    "                for i in ids:\n",
    "                    if i not in drv:\n",
    "                        player = players.find_one({'_id': str(i)})\n",
    "                        if player is None:\n",
    "                            missing_players.append(i)\n",
    "                            skip = True\n",
    "                            break\n",
    "                        drv[i] = [float(player['rating_level']) - 0.25]\n",
    "                    if wl not in dr:\n",
    "                        dr[wl] = drv[i][-1]\n",
    "                    else: # average dynamic ratings for doubles\n",
    "                        dr[wl] = (dr[wl] + drv[i][-1]) / 2\n",
    "                if skip:\n",
    "                    break\n",
    "            if default or skip:\n",
    "                continue       \n",
    "            #print(individual_match)\n",
    "            prd = dr['winner'] - dr['loser'] # Player Rating Differential\n",
    "            #print('\\tprd = {0:.3f}'.format(prd))\n",
    "            rdd = crd(score) - prd # Rating Differential Discrepancy\n",
    "            #print('\\trdd = {0:.3f}'.format(rdd))\n",
    "            for idx, wl in enumerate(['winner', 'loser']):\n",
    "                id_or_ids = individual_match[wl]\n",
    "                ids = id_or_ids if isinstance(id_or_ids, list) else [id_or_ids]\n",
    "                for i in ids:\n",
    "                    ar = drv[i][-1] + (-1)**idx * rdd/2 # Adjusted Winner/Loser’s Rating (before averaging)\n",
    "                    #print('\\tar for {0} = {1:.4f}'.format(i, ar))\n",
    "                    h = drv[i][-3:] # winner/loser's dynamic rating history (last three)\n",
    "                    #print('\\th for {} ='.format(i), ' '.join(['{0:.3f}'.format(r) for r in h]))\n",
    "                    drv[i].append((sum(h) + ar) / (len(h) + 1)) # Dynamic Winner’s Rating\n",
    "                    #print('\\tdwr for {0} = {1:.3f}'.format(i, drv[i][-1]))\n",
    "                # adjust doubles partners' ratings after averaging to ensure\n",
    "                # same differential between partners as before\n",
    "                if len(ids) > 1:\n",
    "                    i, j = ids\n",
    "                    drv_diff_before = drv[i][-2] - drv[j][-2]\n",
    "                    drv_diff_after = drv[i][-1] - drv[j][-1]\n",
    "                    if not math.isclose(drv_diff_before, drv_diff_after, abs_tol=0.001):\n",
    "                        drv_adjust = (drv_diff_before - drv_diff_after) / 2\n",
    "                        drv[i][-1] += drv_adjust\n",
    "                        drv[j][-1] -= drv_adjust\n",
    "                        drv_diff_before = drv[i][-2] - drv[j][-2]\n",
    "                        drv_diff_after = drv[i][-1] - drv[j][-1]\n",
    "                        if not math.isclose(drv_diff_before, drv_diff_after, abs_tol=0.001):          \n",
    "                            raise ValueError(drv_diff_before, drv_diff_after)\n",
    "    sys.stdout.write('\\r{}'.format(imatch))\n",
    "print('\\n', len(missing_players), players.count())"
   ]
  },
  {
   "cell_type": "code",
   "execution_count": null,
   "metadata": {
    "collapsed": false
   },
   "outputs": [],
   "source": [
    "plt.plot(drv[169636][-26:], label='P. Huck')\n",
    "# plt.plot(drv[186081], label='J. Huck')\n",
    "# plt.plot(drv[78753], label='Melnik')\n",
    "# plt.plot(drv[13068], label='Sorrell')\n",
    "# plt.plot(drv[172087], label='Vejsada')\n",
    "# plt.plot(drv[136400], label='Walker')\n",
    "# plt.plot(drv[149057], label='Wachter')\n",
    "# plt.plot(drv[92290], label='Pegels')\n",
    "# plt.plot(drv[41147], label='Kettering')\n",
    "# plt.plot(drv[178039], label='Wall')\n",
    "# plt.plot(drv[97025], label='Unno')\n",
    "# plt.plot(drv[159624], label='Sani')\n",
    "plt.plot(df_dyn[1], label='NTRP Dyn')\n",
    "plt.plot([None] + list(df_sd[1]), label='NTRP S/D')\n",
    "plt.legend(loc='center left', bbox_to_anchor=(1, 0.5))\n",
    "plt.grid(True)\n",
    "plt.show()\n",
    "# TODO no adjustment when playing against self-rated player"
   ]
  }
 ],
 "metadata": {
  "kernelspec": {
   "display_name": "Python 3",
   "language": "python",
   "name": "python3"
  },
  "language_info": {
   "codemirror_mode": {
    "name": "ipython",
    "version": 3
   },
   "file_extension": ".py",
   "mimetype": "text/x-python",
   "name": "python",
   "nbconvert_exporter": "python",
   "pygments_lexer": "ipython3",
   "version": "3.5.2"
  }
 },
 "nbformat": 4,
 "nbformat_minor": 0
}
