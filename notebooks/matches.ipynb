{
 "cells": [
  {
   "cell_type": "code",
   "execution_count": null,
   "metadata": {
    "collapsed": false
   },
   "outputs": [],
   "source": [
    "%load_ext autoreload\n",
    "%autoreload 2\n",
    "import pymongo, math, sys\n",
    "from usta_tennis.utils import *\n",
    "from usta_tennis.crd import crd\n",
    "import matplotlib.pyplot as plt\n",
    "%matplotlib inline"
   ]
  },
  {
   "cell_type": "code",
   "execution_count": null,
   "metadata": {
    "collapsed": false
   },
   "outputs": [],
   "source": [
    "client = pymongo.MongoClient('mongodb://localhost:27017')\n",
    "players, matches = client['usta'].players, client['usta'].matches\n",
    "matches.count()\n",
    "player = players.find_one({'last_name': 'Huck', 'first_name': 'Patrick'})\n",
    "print(player)\n",
    "player = players.find_one({'last_name': 'Huck', 'first_name': 'Johanna'})\n",
    "print(player)"
   ]
  },
  {
   "cell_type": "code",
   "execution_count": null,
   "metadata": {
    "collapsed": false
   },
   "outputs": [],
   "source": [
    "drv = {} # dynamic rating values (last three for each player id)\n",
    "for imatch, match in enumerate(matches.find().sort('date')):\n",
    "    for sd in ['singles', 'doubles']:\n",
    "        for individual_match in match[sd]:\n",
    "            skip = False\n",
    "            score = individual_match['score']\n",
    "            if score[0] == 'Double Default':\n",
    "                continue\n",
    "            if nr_sets_completed(score) < 2:\n",
    "                continue # retired\n",
    "            default = False\n",
    "            dr = {}\n",
    "            for wl in ['winner', 'loser']:\n",
    "                id_or_ids = individual_match[wl]\n",
    "                ids = id_or_ids if isinstance(id_or_ids, list) else [id_or_ids]\n",
    "                if None in ids:\n",
    "                    default = True\n",
    "                    break # default    \n",
    "                for i in ids:\n",
    "                    if i not in drv:\n",
    "                        player = players.find_one({'_id': str(i)})\n",
    "                        if player is None:\n",
    "                            #print(i, 'not found')\n",
    "                            skip = True\n",
    "                            break\n",
    "                        drv[i] = [float(player['rating_level']) - 0.25]\n",
    "                    if wl not in dr:\n",
    "                        dr[wl] = drv[i][-1]\n",
    "                    else: # average dynamic ratings for doubles\n",
    "                        dr[wl] = (dr[wl] + drv[i][-1]) / 2\n",
    "                if skip:\n",
    "                    break\n",
    "            if default or skip:\n",
    "                continue       \n",
    "            #print(individual_match)\n",
    "            prd = dr['winner'] - dr['loser'] # Player Rating Differential\n",
    "            #print('\\tprd = {0:.3f}'.format(prd))\n",
    "            rdd = crd(score) - prd # Rating Differential Discrepancy\n",
    "            #print('\\trdd = {0:.3f}'.format(rdd))\n",
    "            for idx, wl in enumerate(['winner', 'loser']):\n",
    "                id_or_ids = individual_match[wl]\n",
    "                ids = id_or_ids if isinstance(id_or_ids, list) else [id_or_ids]\n",
    "                for i in ids:\n",
    "                    ar = drv[i][-1] + (-1)**idx * rdd/2 # Adjusted Winner/Loser’s Rating (before averaging)\n",
    "                    #print('\\tar for {0} = {1:.4f}'.format(i, ar))\n",
    "                    h = drv[i][-3:] # winner/loser's dynamic rating history (last three)\n",
    "                    #print('\\th for {} ='.format(i), ' '.join(['{0:.3f}'.format(r) for r in h]))\n",
    "                    drv[i].append((sum(h) + ar) / (len(h) + 1)) # Dynamic Winner’s Rating\n",
    "                    #print('\\tdwr for {0} = {1:.3f}'.format(i, drv[i][-1]))\n",
    "                # adjust doubles partners' ratings after averaging to ensure\n",
    "                # same differential between partners as before\n",
    "                if len(ids) > 1:\n",
    "                    i, j = ids\n",
    "                    drv_diff_before = drv[i][-2] - drv[j][-2]\n",
    "                    drv_diff_after = drv[i][-1] - drv[j][-1]\n",
    "                    if not math.isclose(drv_diff_before, drv_diff_after, abs_tol=0.001):\n",
    "                        drv_adjust = (drv_diff_before - drv_diff_after) / 2\n",
    "                        drv[i][-1] += drv_adjust\n",
    "                        drv[j][-1] -= drv_adjust\n",
    "                        drv_diff_before = drv[i][-2] - drv[j][-2]\n",
    "                        drv_diff_after = drv[i][-1] - drv[j][-1]\n",
    "                        if not math.isclose(drv_diff_before, drv_diff_after, abs_tol=0.001):          \n",
    "                            raise ValueError(drv_diff_before, drv_diff_after)\n",
    "    sys.stdout.write('\\r{}'.format(imatch))"
   ]
  },
  {
   "cell_type": "code",
   "execution_count": null,
   "metadata": {
    "collapsed": false
   },
   "outputs": [],
   "source": [
    "plt.plot(drv[169636])\n",
    "plt.plot(drv[186081])\n",
    "plt.show()"
   ]
  }
 ],
 "metadata": {
  "kernelspec": {
   "display_name": "Python 3",
   "language": "python",
   "name": "python3"
  },
  "language_info": {
   "codemirror_mode": {
    "name": "ipython",
    "version": 3
   },
   "file_extension": ".py",
   "mimetype": "text/x-python",
   "name": "python",
   "nbconvert_exporter": "python",
   "pygments_lexer": "ipython3",
   "version": "3.5.2"
  }
 },
 "nbformat": 4,
 "nbformat_minor": 0
}
