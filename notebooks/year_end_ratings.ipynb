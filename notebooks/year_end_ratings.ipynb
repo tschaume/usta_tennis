{
 "cells": [
  {
   "cell_type": "code",
   "execution_count": null,
   "metadata": {
    "collapsed": true
   },
   "outputs": [],
   "source": [
    "from pymongo import MongoClient\n",
    "client = MongoClient()#(host='localhost', port=9999)\n",
    "entries = client['usta']['tlinkentries']"
   ]
  },
  {
   "cell_type": "code",
   "execution_count": null,
   "metadata": {
    "collapsed": false
   },
   "outputs": [],
   "source": [
    "entries.count()"
   ]
  },
  {
   "cell_type": "code",
   "execution_count": null,
   "metadata": {
    "collapsed": false
   },
   "outputs": [],
   "source": [
    "names = entries.distinct('info.name')\n",
    "len(names)"
   ]
  },
  {
   "cell_type": "code",
   "execution_count": null,
   "metadata": {
    "collapsed": false
   },
   "outputs": [],
   "source": [
    "docs = list(entries.aggregate([\n",
    "    { \n",
    "        \"$group\": { \n",
    "            \"_id\": { \"name\": \"$info.name\"}, \n",
    "            \"uniqueIds\": { \"$addToSet\": \"$_id\" },\n",
    "            \"count\": { \"$sum\": 1 } \n",
    "        }\n",
    "    }, \n",
    "    { \"$match\": { \"count\": { \"$gt\": 1 } } }\n",
    "]))"
   ]
  },
  {
   "cell_type": "code",
   "execution_count": null,
   "metadata": {
    "collapsed": false
   },
   "outputs": [],
   "source": [
    "from datetime import datetime\n",
    "from operator import itemgetter\n",
    "from pandas import DataFrame\n",
    "from pandas import ExcelWriter\n",
    "from collections import OrderedDict"
   ]
  },
  {
   "cell_type": "code",
   "execution_count": null,
   "metadata": {
    "collapsed": true
   },
   "outputs": [],
   "source": [
    "def save_xls(dct, xls_path='year_end_ratings.xlsx'):\n",
    "    writer = ExcelWriter(xls_path)\n",
    "    for name, s in dct.items():\n",
    "        s.to_excel(writer, sheet_name=name)\n",
    "    writer.save()"
   ]
  },
  {
   "cell_type": "code",
   "execution_count": null,
   "metadata": {
    "collapsed": false
   },
   "outputs": [],
   "source": [
    "levels = ['{:.1f}'.format(x/10.) for x in range(30, 60, 5)]\n",
    "genders = ['M', 'F']\n",
    "sheets = OrderedDict()\n",
    "\n",
    "for gender in genders:\n",
    "    for level in levels:\n",
    "        lvl = int(float(level)*10)\n",
    "        allowed_levels = ['{:.1f}'.format(x/10.) for x in range(lvl-5, lvl+10, 5)]\n",
    "        key = '{}{}'.format(level, gender)\n",
    "        print(key)\n",
    "        data = OrderedDict([('Name', []), ('2018 Rating', []), ('Type', [])])\n",
    "\n",
    "        for doc in docs:\n",
    "\n",
    "            dups = list(entries.find({'_id': {'$in': doc['uniqueIds']}}))\n",
    "            if dups[0]['info']['gender'] != gender:\n",
    "                continue\n",
    "\n",
    "            dups = [{\n",
    "                'name': dup['info']['name'],\n",
    "                'gender': dup['info']['gender'],\n",
    "                'year_end_rating_level': dup['info']['year_end_rating_level'] if isinstance(\n",
    "                        dup['info']['year_end_rating_level'], str\n",
    "                    ) else '{:.1f}'.format(dup['info']['year_end_rating_level']),\n",
    "                'year_end_rating_date': datetime.strptime(dup['info']['year_end_rating_date'], '%m/%d/%Y'),\n",
    "                'rating_type': dup['info']['rating_type']\n",
    "            } for dup in dups]\n",
    "            dups = sorted(dups, key=itemgetter('year_end_rating_date'), reverse=True)[:2]\n",
    "            \n",
    "            new_year_end_rating_date = datetime.strptime('12/31/2017', '%m/%d/%Y')\n",
    "            if not dups[0]['year_end_rating_level'] in allowed_levels or \\\n",
    "                dups[1]['year_end_rating_level'] != level or \\\n",
    "                dups[0]['year_end_rating_date'] != new_year_end_rating_date or \\\n",
    "                dups[0]['year_end_rating_level'] == dups[1]['year_end_rating_level']:\n",
    "                continue\n",
    "\n",
    "            data['Name'].append(dups[0]['name'])\n",
    "            data['2018 Rating'].append(float(dups[0]['year_end_rating_level']))\n",
    "            data['Type'].append(dups[0]['rating_type'])\n",
    "\n",
    "        if data['Name']:\n",
    "            sheets[key] = DataFrame(data=data)\n",
    "            sheets[key].set_index('Name', inplace=True)\n",
    "            sheets[key].sort_values(by=['2018 Rating'], inplace=True)\n",
    "\n",
    "save_xls(sheets)\n",
    "print('DONE')"
   ]
  }
 ],
 "metadata": {
  "kernelspec": {
   "display_name": "Python 3",
   "language": "python",
   "name": "python3"
  },
  "language_info": {
   "codemirror_mode": {
    "name": "ipython",
    "version": 3
   },
   "file_extension": ".py",
   "mimetype": "text/x-python",
   "name": "python",
   "nbconvert_exporter": "python",
   "pygments_lexer": "ipython3",
   "version": "3.5.2"
  }
 },
 "nbformat": 4,
 "nbformat_minor": 2
}
