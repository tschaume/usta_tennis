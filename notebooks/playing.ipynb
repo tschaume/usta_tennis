{
 "cells": [
  {
   "cell_type": "code",
   "execution_count": null,
   "metadata": {
    "collapsed": false
   },
   "outputs": [],
   "source": [
    "import pymongo, itertools, collections, unittest, time, sys\n",
    "import networkx as nx\n",
    "import matplotlib.pyplot as plt\n",
    "from circos import CircosPlot\n",
    "from hiveplot import HivePlot\n",
    "%matplotlib inline\n",
    "assertions = unittest.TestCase('__init__')"
   ]
  },
  {
   "cell_type": "code",
   "execution_count": null,
   "metadata": {
    "collapsed": false
   },
   "outputs": [],
   "source": [
    "client = pymongo.MongoClient('mongodb://localhost:27017')\n",
    "players, matches = client['usta'].players, client['usta'].matches\n",
    "assert(players.count() == 76114)\n",
    "assert(matches.count() == 6228)"
   ]
  },
  {
   "cell_type": "code",
   "execution_count": null,
   "metadata": {
    "collapsed": false
   },
   "outputs": [],
   "source": [
    "def nr_sets_completed(score):\n",
    "    return sum([\n",
    "            bool(int(s[0]) >= 6 or int(s[1]) >= 6)\n",
    "            for s in score\n",
    "        ])\n",
    "\n",
    "def pretty_score(score):\n",
    "    return '/'.join(['-'.join(s) for s in score])\n",
    "\n",
    "def is_bagel(score):\n",
    "    return all([not int(s[1]) for s in score])\n",
    "\n",
    "def pretty_ratings(ratings):\n",
    "    return ['{0:.3f}'.format(r) for r in ratings]\n",
    "\n",
    "score = ['76', '64']\n",
    "assert(nr_sets_completed(score) == 2)\n",
    "assert(nr_sets_completed(['51']) == 0)\n",
    "assert(nr_sets_completed(['16', '75']) == 2)\n",
    "assert(pretty_score(score) == '7-6/6-4')\n",
    "assert(is_bagel(score) == False)\n",
    "assert(is_bagel(['60', '30']) == True)"
   ]
  },
  {
   "cell_type": "code",
   "execution_count": null,
   "metadata": {
    "collapsed": true
   },
   "outputs": [],
   "source": [
    "def add_player(player, graph):\n",
    "    player_id = int(player['_id'])\n",
    "    full_name = ' '.join([player['first_name'], player['last_name']])\n",
    "    rating = player['rating_level'] - 0.25 # start in the middle\n",
    "    kwargs = dict(\n",
    "        name=full_name, rating=rating,\n",
    "        level='{0:.1f}'.format(player['rating_level'])            \n",
    "    )\n",
    "    graph.add_node(player_id, **kwargs)"
   ]
  },
  {
   "cell_type": "code",
   "execution_count": null,
   "metadata": {
    "collapsed": false
   },
   "outputs": [],
   "source": [
    "def get_player_graph(player, graph, verbose=False):\n",
    "    player_id = int(player['_id'])\n",
    "    global nesting\n",
    "    indent = ' '*nesting\n",
    "    player_full_name = ' '.join([player['first_name'], player['last_name']])\n",
    "    if verbose:\n",
    "        print('{}{}: {} ({})'.format(\n",
    "            indent, player_id, player_full_name, player['rating_level']\n",
    "        ))\n",
    "    query = {'$or': []}\n",
    "    # sd_keys, wl_keys = ['singles', 'doubles'], ['winner', 'loser']\n",
    "    sd_keys, wl_keys = ['singles'], ['winner', 'loser']\n",
    "    for key in itertools.product(sd_keys, wl_keys):\n",
    "        query['$or'].append({'.'.join(key): player_id})\n",
    "    player_matches = matches.find(query).sort('date')\n",
    "    if player_matches.count() < 2:\n",
    "        if verbose:\n",
    "            print('{}skip {}. Only played 1 match'.format(indent, player_full_name))\n",
    "        return\n",
    "    for match in player_matches:\n",
    "        individual_match_found = False\n",
    "        for sd in sd_keys:\n",
    "            if individual_match_found:\n",
    "                break\n",
    "            for individual_match in match[sd]:\n",
    "                if individual_match_found:\n",
    "                    break\n",
    "                for iwl, wl in enumerate(wl_keys):\n",
    "                    if individual_match_found:\n",
    "                        break\n",
    "                    if individual_match[wl] == player_id or (\n",
    "                        isinstance(individual_match[wl], list) and \\\n",
    "                        player_id in individual_match[wl]\n",
    "                    ):\n",
    "                        individual_match_found = True\n",
    "                        score = individual_match['score']\n",
    "                        opponent_id = individual_match[wl_keys[int(not(iwl))]]\n",
    "                        win_or_loss = wl[0].upper()\n",
    "                        if (\n",
    "                            nr_sets_completed(score) < 2 or # two sets completed\n",
    "                            is_bagel(score) or opponent_id is None # skip bagels and defaults\n",
    "                        ):\n",
    "                            break\n",
    "                        opponent = players.find_one({'_id': str(opponent_id)})\n",
    "                        if opponent_id not in graph.node:\n",
    "                            add_player(opponent, graph)\n",
    "                        kwargs = dict(score=score, date=match['date'])\n",
    "                        source, sink = (player_id, opponent_id) if win_or_loss == 'W' \\\n",
    "                                else (opponent_id, player_id)\n",
    "                        if sink in graph.edge[source] and kwargs in graph[source][sink].values():\n",
    "                            break # match already added\n",
    "                        graph.add_edge(source, sink, **kwargs)\n",
    "                        if verbose:\n",
    "                            print(\n",
    "                                '{}{}:'.format(indent, match['_id']), win_or_loss,\n",
    "                                pretty_score(score), 'vs',\n",
    "                                ' '.join([opponent['first_name'], opponent['last_name']]),\n",
    "                                '({})'.format(opponent_id)\n",
    "                            )\n",
    "                        nesting += 1\n",
    "                        if not verbose:\n",
    "                            sys.stdout.write('\\r{}'.format(nesting))\n",
    "                        get_player_graph(opponent, graph=graph, verbose=verbose)\n",
    "                        nesting -= 1"
   ]
  },
  {
   "cell_type": "code",
   "execution_count": null,
   "metadata": {
    "collapsed": false,
    "scrolled": false
   },
   "outputs": [],
   "source": [
    "sys.setrecursionlimit(3000)\n",
    "nesting = 0\n",
    "G = nx.MultiDiGraph()\n",
    "player = players.find_one({'last_name': 'Huck', 'first_name': 'Patrick'})\n",
    "add_player(player, G) # root node\n",
    "get_player_graph(player, graph=G, verbose=False)"
   ]
  },
  {
   "cell_type": "code",
   "execution_count": null,
   "metadata": {
    "collapsed": false
   },
   "outputs": [],
   "source": [
    "print(len(G))"
   ]
  },
  {
   "cell_type": "code",
   "execution_count": null,
   "metadata": {
    "collapsed": false
   },
   "outputs": [],
   "source": [
    "def crd(score):\n",
    "    \"\"\"\n",
    "    CRD - Computer Rated Differential (numerical value for the difference in score)\n",
    "    \n",
    "    One way to assign a value to a specific score, is to count the number of service breaks\n",
    "    and scale it to a value appropriate for NTRP ratings. For instance, at-level/true 4.5\n",
    "    players should populate the core of the 4.5 interval. Defining the core of a 0.5-wide\n",
    "    interval as its inner 90%, yields the range 4.05 - 4.45. An average upper 4.5 player\n",
    "    would then correspond to a 4.35 rating and a lower 4.5 player to 4.15.\n",
    "    \n",
    "    A good scale for the CRD reflects the fact that an upper 4.5 player routinely beats a\n",
    "    lower 4.5 player. A sensible choice for a routine but competitive win is a score of\n",
    "    6-3/6-3 or 6-3/6-2 [see below].\n",
    "    \n",
    "    The number of service breaks in these cases should hence be equivalent to the difference\n",
    "    of 0.2 between an upper and a lower 4.5 player. A 6-3/6-3 win entails 3 service breaks\n",
    "    whereas a 6-3/6-2 win could be counted as 3.5 service breaks. Assigning a scaling factor\n",
    "    of 0.06 for each additional service break is thus a good choice and results in CRDs of\n",
    "    0.18 and 0.21, respectively.\n",
    "    \n",
    "    In the CRD, the number of service breaks in the third set also counts half since the\n",
    "    opponents are basically even but the loser of the third set doesn't get a chance to even\n",
    "    out in a fourth.\n",
    "    \n",
    "    A match is considered competitive if the loser plays one competitive set (>= 3 games) or\n",
    "    scores at least 4 games in total. If this isn't the case, the outcome of the match would\n",
    "    almost always be a non-competitive score regardless of how often they play each other.\n",
    "    Since neither player probably plays their best due to the non-competitiveness of the match,\n",
    "    the score likely is inaccurate.\n",
    "    \n",
    "    In the worst case of a 6-0/6-0 score, it's tough to assess performance of either player\n",
    "    at all without a game on the scoreboard for the loser. The loser might have been close\n",
    "    to scoring a game in every game of the match or in none at all.\n",
    "    \n",
    "    It hence makes sense to treat 6-0/6-0 scores as outliers in the calculation of ratings\n",
    "    and discard them. But we can use this score to estimate the score inaccuracy of a\n",
    "    non-competitive match. In such a match, the winner scored 6 service breaks, and an\n",
    "    additional game for the loser would correspond to half a service break difference in\n",
    "    the CRD, i.e. 0.03. Say the loser got close to winning one of the winner's 6 service\n",
    "    games. The change in CRD value equivalent to this performance would be 0.03/6 = 0.005.\n",
    "    For non-competitive matches, the CRD is hence adjusted downward by 0.005 to not affect\n",
    "    both the players ratings as much as two competitive sets [which would have been more fun\n",
    "    for both]. \n",
    "    \n",
    "    See http://web.archive.org/web/20051211104109/http://www.wetennis.com/rate.htm\n",
    "    \"\"\"\n",
    "    if score == ['60', '60']:\n",
    "        raise ValueError('{} should be ignored!'.format(pretty_score(score)))\n",
    "    crd = 0 # computer rated differential (CRD)\n",
    "    scf = 0.06 # scaling factor = CRD equivalent for one service break\n",
    "    competitive_set = False # one competitive set played (> 2 games)\n",
    "    glt = 0 # number of games scored by loser\n",
    "    for i,s in enumerate(score):\n",
    "        gw, gl = map(int, s) # games winner and loser\n",
    "        nb = float(gw-gl)/2 # number of breaks\n",
    "        crd += (nb/2 if i == 2 else nb) * scf # third set counts half\n",
    "        glt += gl\n",
    "        if i < 2 and gl > 2: # skip third set\n",
    "            competitive_set = True\n",
    "    return crd if competitive_set or glt > 3 else crd-scf/12\n",
    "\n",
    "# competitive 3-set matches\n",
    "assertions.assertAlmostEqual(crd(['75', '57', '10']), 0.015)\n",
    "assertions.assertAlmostEqual(crd(['64', '46', '64']), 0.03)\n",
    "assertions.assertAlmostEqual(crd(['75', '57', '75']), 0.03)\n",
    "assertions.assertAlmostEqual(crd(['75', '57', '63']), 0.045)\n",
    "assertions.assertAlmostEqual(crd(['75', '57', '61']), 0.075)\n",
    "# competitive 2-set matches\n",
    "# one competitive set (>= 3 games) or\n",
    "# total >= 4 games\n",
    "assertions.assertAlmostEqual(crd(['76', '76']), 0.06)\n",
    "assertions.assertAlmostEqual(crd(['76', '75']), 0.09)\n",
    "assertions.assertAlmostEqual(crd(['76', '64']), 0.09)\n",
    "assertions.assertAlmostEqual(crd(['75', '64']), 0.12)\n",
    "assertions.assertAlmostEqual(crd(['64', '64']), 0.12)\n",
    "assertions.assertAlmostEqual(crd(['64', '63']), 0.15)\n",
    "assertions.assertAlmostEqual(crd(['63', '63']), 0.18)\n",
    "assertions.assertAlmostEqual(crd(['75', '62']), 0.18)\n",
    "assertions.assertAlmostEqual(crd(['62', '63']), 0.21)\n",
    "assertions.assertAlmostEqual(crd(['62', '62']), 0.24)\n",
    "assertions.assertAlmostEqual(crd(['63', '61']), 0.24)\n",
    "assertions.assertAlmostEqual(crd(['61', '63']), 0.24)\n",
    "assertions.assertAlmostEqual(crd(['63', '60']), 0.27)\n",
    "assertions.assertAlmostEqual(crd(['60', '63']), 0.27)\n",
    "# non-competitive matches\n",
    "assertions.assertAlmostEqual(crd(['62', '61']), 0.265)\n",
    "assertions.assertAlmostEqual(crd(['62', '60']), 0.295)\n",
    "assertions.assertAlmostEqual(crd(['61', '61']), 0.295)\n",
    "assertions.assertAlmostEqual(crd(['61', '60']), 0.325)\n",
    "\n",
    "# crd(['60', '60'])"
   ]
  },
  {
   "cell_type": "code",
   "execution_count": null,
   "metadata": {
    "collapsed": false,
    "scrolled": false
   },
   "outputs": [],
   "source": [
    "edges = sorted(G.edges(data=True), key=lambda x: x[-1]['date'])\n",
    "drv = {} # dynamic rating values\n",
    "for winner_id, loser_id, d in edges:\n",
    "    if winner_id not in drv:\n",
    "        drv[winner_id] = [G.node[winner_id]['rating']]\n",
    "    if loser_id not in drv:\n",
    "        drv[loser_id] = [G.node[loser_id]['rating']]\n",
    "    prd = drv[winner_id][-1] - drv[loser_id][-1] # Player Rating Differential\n",
    "    rdd = crd(d['score']) - prd # Rating Differential Discrepancy\n",
    "    awr = drv[winner_id][-1] + rdd/2 # Adjusted Winner’s Rating (before averaging)\n",
    "    dwr = (sum(drv[winner_id]) + awr) / (len(drv[winner_id]) + 1) # Dynamic Winner’s Rating\n",
    "    drv[winner_id].append(dwr)\n",
    "    alr = drv[loser_id][-1] - rdd/2 # Adjusted Loser’s Rating (before averaging)\n",
    "    dlr = (sum(drv[loser_id]) + alr) / (len(drv[loser_id]) + 1) # Dynamic Loser’s Rating\n",
    "    drv[loser_id].append(dlr)"
   ]
  },
  {
   "cell_type": "code",
   "execution_count": null,
   "metadata": {
    "collapsed": false
   },
   "outputs": [],
   "source": [
    "fig = plt.figure(figsize=(17,8))\n",
    "ax = fig.add_subplot(111)\n",
    "for k,v in drv.items():\n",
    "    if len(v) > 4:\n",
    "        plt.plot(v)\n",
    "plt.show()"
   ]
  },
  {
   "cell_type": "code",
   "execution_count": null,
   "metadata": {
    "collapsed": false
   },
   "outputs": [],
   "source": [
    "# nx.draw(G)\n",
    "fig = plt.figure(figsize=(6,6))\n",
    "ax = fig.add_subplot(111)\n",
    "\n",
    "nodes = sorted(G.nodes())\n",
    "edges = G.edges()\n",
    "node_cmap = {'4.0': 'blue', '4.5': 'red', '5.0': 'green'}\n",
    "nodecolors = [node_cmap[G.node[n]['level']] for n in G.nodes()]\n",
    "\n",
    "c = CircosPlot(nodes, edges, radius=10, ax=ax, fig=fig, nodecolor=nodecolors)\n",
    "c.draw()"
   ]
  },
  {
   "cell_type": "code",
   "execution_count": null,
   "metadata": {
    "collapsed": false
   },
   "outputs": [],
   "source": [
    "nodes = dict(\n",
    "    (level, [n for n,d in G.nodes(data=True) if d['level'] == level])\n",
    "    for level in ['4.0', '4.5', '5.0']\n",
    ")\n",
    "edges = dict(group1=G.edges(data=True))\n",
    "edge_cmap = dict(group1='black')\n",
    "h = HivePlot(nodes, edges, node_cmap, edge_cmap)\n",
    "h.draw()"
   ]
  },
  {
   "cell_type": "code",
   "execution_count": null,
   "metadata": {
    "collapsed": false
   },
   "outputs": [],
   "source": [
    "# sorted([(n, G.neighbors(n)) for n in G.nodes()], key=lambda x: len(x[1]), reverse=True)\n",
    "# print(nx.degree_centrality(G))\n",
    "# print(nx.has_path(G, 400, 1))\n",
    "fig = plt.figure(0)\n",
    "degree_centralities = list(nx.degree_centrality(G).values())\n",
    "plt.hist(degree_centralities)\n",
    "plt.title('Degree Centralities')"
   ]
  }
 ],
 "metadata": {
  "kernelspec": {
   "display_name": "Python 3",
   "language": "python",
   "name": "python3"
  },
  "language_info": {
   "codemirror_mode": {
    "name": "ipython",
    "version": 3
   },
   "file_extension": ".py",
   "mimetype": "text/x-python",
   "name": "python",
   "nbconvert_exporter": "python",
   "pygments_lexer": "ipython3",
   "version": "3.5.2"
  }
 },
 "nbformat": 4,
 "nbformat_minor": 0
}
