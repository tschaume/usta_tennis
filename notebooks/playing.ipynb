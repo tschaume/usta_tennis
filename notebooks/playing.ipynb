{
 "cells": [
  {
   "cell_type": "code",
   "execution_count": null,
   "metadata": {
    "collapsed": false
   },
   "outputs": [],
   "source": [
    "import pymongo, itertools, collections, unittest, time, sys\n",
    "import networkx as nx\n",
    "import matplotlib.pyplot as plt\n",
    "from circos import CircosPlot\n",
    "from hiveplot import HivePlot\n",
    "from usta_tennis.crd import crd\n",
    "from usta_tennis.utils import *\n",
    "%matplotlib inline"
   ]
  },
  {
   "cell_type": "code",
   "execution_count": null,
   "metadata": {
    "collapsed": false
   },
   "outputs": [],
   "source": [
    "client = pymongo.MongoClient('mongodb://localhost:27017')\n",
    "players, matches = client['usta'].players, client['usta'].matches\n",
    "assert(players.count() == 76114)\n",
    "assert(matches.count() == 6228)"
   ]
  },
  {
   "cell_type": "code",
   "execution_count": null,
   "metadata": {
    "collapsed": true
   },
   "outputs": [],
   "source": [
    "def add_player(player, graph):\n",
    "    player_id = int(player['_id'])\n",
    "    full_name = ' '.join([player['first_name'], player['last_name']])\n",
    "    rating = player['rating_level'] - 0.25 # start in the middle\n",
    "    kwargs = dict(\n",
    "        name=full_name, rating=rating,\n",
    "        level='{0:.1f}'.format(player['rating_level'])            \n",
    "    )\n",
    "    graph.add_node(player_id, **kwargs)"
   ]
  },
  {
   "cell_type": "code",
   "execution_count": null,
   "metadata": {
    "collapsed": false
   },
   "outputs": [],
   "source": [
    "def get_player_graph(player, graph, verbose=False):\n",
    "    player_id = int(player['_id'])\n",
    "    global nesting\n",
    "    indent = ' '*nesting\n",
    "    player_full_name = ' '.join([player['first_name'], player['last_name']])\n",
    "    if verbose:\n",
    "        print('{}{}: {} ({})'.format(\n",
    "            indent, player_id, player_full_name, player['rating_level']\n",
    "        ))\n",
    "    query = {'$or': []}\n",
    "    # sd_keys, wl_keys = ['singles', 'doubles'], ['winner', 'loser']\n",
    "    sd_keys, wl_keys = ['singles'], ['winner', 'loser']\n",
    "    for key in itertools.product(sd_keys, wl_keys):\n",
    "        query['$or'].append({'.'.join(key): player_id})\n",
    "    player_matches = matches.find(query).sort('date')\n",
    "    if player_matches.count() < 2:\n",
    "        if verbose:\n",
    "            print('{}skip {}. Only played 1 match'.format(indent, player_full_name))\n",
    "        return\n",
    "    for match in player_matches:\n",
    "        individual_match_found = False\n",
    "        for sd in sd_keys:\n",
    "            if individual_match_found:\n",
    "                break\n",
    "            for individual_match in match[sd]:\n",
    "                if individual_match_found:\n",
    "                    break\n",
    "                for iwl, wl in enumerate(wl_keys):\n",
    "                    if individual_match_found:\n",
    "                        break\n",
    "                    if individual_match[wl] == player_id or (\n",
    "                        isinstance(individual_match[wl], list) and \\\n",
    "                        player_id in individual_match[wl]\n",
    "                    ):\n",
    "                        individual_match_found = True\n",
    "                        score = individual_match['score']\n",
    "                        opponent_id = individual_match[wl_keys[int(not(iwl))]]\n",
    "                        win_or_loss = wl[0].upper()\n",
    "                        if (\n",
    "                            nr_sets_completed(score) < 2 or # two sets completed\n",
    "                            is_bagel(score) or opponent_id is None # skip bagels and defaults\n",
    "                        ):\n",
    "                            break\n",
    "                        opponent = players.find_one({'_id': str(opponent_id)})\n",
    "                        if opponent is None:\n",
    "                            print('{} not found!'.format(opponent_id))\n",
    "                            break\n",
    "                        if opponent_id not in graph.node:\n",
    "                            add_player(opponent, graph)\n",
    "                        kwargs = dict(score=score, date=match['date'])\n",
    "                        source, sink = (player_id, opponent_id) if win_or_loss == 'W' \\\n",
    "                                else (opponent_id, player_id)\n",
    "                        if sink in graph.edge[source] and kwargs in graph[source][sink].values():\n",
    "                            break # match already added\n",
    "                        graph.add_edge(source, sink, **kwargs)\n",
    "                        if verbose:\n",
    "                            print(\n",
    "                                '{}{}:'.format(indent, match['_id']), win_or_loss,\n",
    "                                pretty_score(score), 'vs',\n",
    "                                ' '.join([opponent['first_name'], opponent['last_name']]),\n",
    "                                '({})'.format(opponent_id)\n",
    "                            )\n",
    "                        nesting += 1\n",
    "                        if not verbose:\n",
    "                            sys.stdout.write('\\r{}'.format(nesting))\n",
    "                        get_player_graph(opponent, graph=graph, verbose=verbose)\n",
    "                        nesting -= 1"
   ]
  },
  {
   "cell_type": "code",
   "execution_count": null,
   "metadata": {
    "collapsed": false,
    "scrolled": false
   },
   "outputs": [],
   "source": [
    "sys.setrecursionlimit(5000)\n",
    "nesting = 0\n",
    "G = nx.MultiDiGraph()\n",
    "player = players.find_one({'last_name': 'Huck', 'first_name': 'Patrick'})\n",
    "#player = players.find_one({'last_name': 'Huck', 'first_name': 'Johanna'})\n",
    "add_player(player, G) # root node\n",
    "get_player_graph(player, graph=G, verbose=False)"
   ]
  },
  {
   "cell_type": "code",
   "execution_count": null,
   "metadata": {
    "collapsed": false
   },
   "outputs": [],
   "source": [
    "print(len(G))"
   ]
  },
  {
   "cell_type": "code",
   "execution_count": null,
   "metadata": {
    "collapsed": false,
    "scrolled": false
   },
   "outputs": [],
   "source": [
    "edges = sorted(G.edges(data=True), key=lambda x: x[-1]['date'])\n",
    "drv, levels = {}, {} # dynamic rating values\n",
    "for winner_id, loser_id, d in edges:\n",
    "    if winner_id not in drv:\n",
    "        drv[winner_id] = [G.node[winner_id]['rating']]\n",
    "    if loser_id not in drv:\n",
    "        drv[loser_id] = [G.node[loser_id]['rating']]\n",
    "    if winner_id not in levels:\n",
    "        levels[winner_id] = G.node[winner_id]['level']\n",
    "    if loser_id not in levels:\n",
    "        levels[loser_id] = G.node[loser_id]['level']\n",
    "    prd = drv[winner_id][-1] - drv[loser_id][-1] # Player Rating Differential\n",
    "    rdd = crd(d['score']) - prd # Rating Differential Discrepancy\n",
    "    awr = drv[winner_id][-1] + rdd/2 # Adjusted Winner’s Rating (before averaging)\n",
    "    dwr = (sum(drv[winner_id]) + awr) / (len(drv[winner_id]) + 1) # Dynamic Winner’s Rating\n",
    "    drv[winner_id].append(dwr)\n",
    "    alr = drv[loser_id][-1] - rdd/2 # Adjusted Loser’s Rating (before averaging)\n",
    "    dlr = (sum(drv[loser_id]) + alr) / (len(drv[loser_id]) + 1) # Dynamic Loser’s Rating\n",
    "    drv[loser_id].append(dlr)"
   ]
  },
  {
   "cell_type": "code",
   "execution_count": null,
   "metadata": {
    "collapsed": false
   },
   "outputs": [],
   "source": [
    "fig = plt.figure(figsize=(17,8))\n",
    "ax = fig.add_subplot(111)\n",
    "for k,v in drv.items():\n",
    "    if len(v) > 10 and levels[k] == '3.0':\n",
    "        plt.plot(v)\n",
    "plt.show()"
   ]
  },
  {
   "cell_type": "code",
   "execution_count": null,
   "metadata": {
    "collapsed": false
   },
   "outputs": [],
   "source": [
    "# nx.draw(G)\n",
    "fig = plt.figure(figsize=(6,6))\n",
    "ax = fig.add_subplot(111)\n",
    "\n",
    "nodes = sorted(G.nodes())\n",
    "edges = G.edges()\n",
    "node_cmap = {'4.0': 'blue', '4.5': 'red', '5.0': 'green'}\n",
    "nodecolors = [node_cmap[G.node[n]['level']] for n in G.nodes()]\n",
    "\n",
    "c = CircosPlot(nodes, edges, radius=10, ax=ax, fig=fig, nodecolor=nodecolors)\n",
    "c.draw()"
   ]
  },
  {
   "cell_type": "code",
   "execution_count": null,
   "metadata": {
    "collapsed": false
   },
   "outputs": [],
   "source": [
    "nodes = dict(\n",
    "    (level, [n for n,d in G.nodes(data=True) if d['level'] == level])\n",
    "    for level in ['4.0', '4.5', '5.0']\n",
    ")\n",
    "edges = dict(group1=G.edges(data=True))\n",
    "edge_cmap = dict(group1='black')\n",
    "h = HivePlot(nodes, edges, node_cmap, edge_cmap)\n",
    "h.draw()"
   ]
  },
  {
   "cell_type": "code",
   "execution_count": null,
   "metadata": {
    "collapsed": false
   },
   "outputs": [],
   "source": [
    "# sorted([(n, G.neighbors(n)) for n in G.nodes()], key=lambda x: len(x[1]), reverse=True)\n",
    "# print(nx.degree_centrality(G))\n",
    "# print(nx.has_path(G, 400, 1))\n",
    "fig = plt.figure(0)\n",
    "degree_centralities = list(nx.degree_centrality(G).values())\n",
    "plt.hist(degree_centralities)\n",
    "plt.title('Degree Centralities')"
   ]
  }
 ],
 "metadata": {
  "kernelspec": {
   "display_name": "Python 3",
   "language": "python",
   "name": "python3"
  },
  "language_info": {
   "codemirror_mode": {
    "name": "ipython",
    "version": 3
   },
   "file_extension": ".py",
   "mimetype": "text/x-python",
   "name": "python",
   "nbconvert_exporter": "python",
   "pygments_lexer": "ipython3",
   "version": "3.5.2"
  }
 },
 "nbformat": 4,
 "nbformat_minor": 0
}
