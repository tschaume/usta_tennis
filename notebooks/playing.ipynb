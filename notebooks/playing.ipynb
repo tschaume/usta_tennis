{
 "cells": [
  {
   "cell_type": "code",
   "execution_count": null,
   "metadata": {
    "collapsed": true
   },
   "outputs": [],
   "source": [
    "import pymongo, itertools, collections\n",
    "import networkx as nx"
   ]
  },
  {
   "cell_type": "code",
   "execution_count": null,
   "metadata": {
    "collapsed": false
   },
   "outputs": [],
   "source": [
    "client = pymongo.MongoClient('mongodb://localhost:27017')\n",
    "players, matches = client['usta'].players, client['usta'].matches\n",
    "print(players.count(), matches.count())"
   ]
  },
  {
   "cell_type": "code",
   "execution_count": null,
   "metadata": {
    "collapsed": false
   },
   "outputs": [],
   "source": [
    "def get_total_games(score):\n",
    "    return sum([int(s[0]) + int(s[1]) for s in score])\n",
    "\n",
    "def pretty_score(score):\n",
    "    return ','.join(['-'.join(s) for s in score])\n",
    "\n",
    "def is_bagel(score):\n",
    "    return all([not int(s[1]) for s in score])\n",
    "\n",
    "score = ['76', '64']\n",
    "print(get_total_games(score))\n",
    "print(pretty_score(score))\n",
    "print(is_bagel(score))\n",
    "print(is_bagel(['60', '30']))"
   ]
  },
  {
   "cell_type": "code",
   "execution_count": null,
   "metadata": {
    "collapsed": false
   },
   "outputs": [],
   "source": [
    "def get_player_graph(player, prev_player_id=None, graph=None):\n",
    "    indent = '\\t' if prev_player_id is not None else ''\n",
    "    player_id = int(player['_id'])\n",
    "    player_full_name = ' '.join([player['first_name'], player['last_name']])\n",
    "    print('{}{}: {} ({})'.format(\n",
    "        indent, player_id, player_full_name, player['rating_level']\n",
    "    ))\n",
    "    if prev_player_id is None and graph is not None:\n",
    "        player_rating = player['rating_level'] - 0.25 # start in the middle\n",
    "        kwargs = dict(name=player_full_name, rating=player_rating)\n",
    "        graph.add_node(player_id, **kwargs)\n",
    "    counter = collections.Counter()\n",
    "    query = {'$or': []}\n",
    "    # sd_keys, wl_keys = ['singles', 'doubles'], ['winner', 'loser']\n",
    "    sd_keys, wl_keys = ['singles'], ['winner', 'loser']\n",
    "    for key in itertools.product(sd_keys, wl_keys):\n",
    "        query['$or'].append({'.'.join(key): player_id})\n",
    "    for match in matches.find(query):\n",
    "        individual_match_found = False\n",
    "        for sd in sd_keys:\n",
    "            for individual_match in match[sd]:\n",
    "                if individual_match_found:\n",
    "                    break\n",
    "                for iwl, wl in enumerate(wl_keys):\n",
    "                    if individual_match[wl] == player_id or (\n",
    "                        isinstance(individual_match[wl], list) and \\\n",
    "                        player_id in individual_match[wl]\n",
    "                    ):\n",
    "                        individual_match_found = True\n",
    "                        score = individual_match['score']\n",
    "                        opponent_id = individual_match[wl_keys[int(not(iwl))]]\n",
    "                        if (\n",
    "                            get_total_games(score) < 6 or # less than 1 set played\n",
    "                            is_bagel(score) or # skip bagels\n",
    "                            opponent_id is None or # default\n",
    "                            opponent_id == prev_player_id # already added                         \n",
    "                        ):\n",
    "                            break\n",
    "                        counter['{}.{}'.format(sd, wl)] += 1\n",
    "                        win_or_loss = wl[0].upper()\n",
    "                        opponent = players.find_one({'_id': str(opponent_id)})\n",
    "                        opponent_full_name = ' '.join([opponent['first_name'], opponent['last_name']])\n",
    "                        print(\n",
    "                            '{}{}:'.format(indent, match['_id']), win_or_loss,\n",
    "                            pretty_score(score), '\\tvs', opponent_full_name, '({})'.format(opponent_id)\n",
    "                        )\n",
    "                        if prev_player_id is None: # only go one level down\n",
    "                            get_player_graph(opponent, prev_player_id=player_id, graph=graph)\n",
    "                        if graph is not None:\n",
    "                            opponent_rating = opponent['rating_level'] - 0.25 # start in the middle\n",
    "                            kwargs = dict(name=opponent_full_name, rating=opponent_rating)\n",
    "                            graph.add_node(opponent_id, **kwargs)\n",
    "                        if graph is not None:\n",
    "                            kwargs = dict(score=score, date=match['date'])\n",
    "                            if win_or_loss == 'W':\n",
    "                                graph.add_edge(player_id, opponent_id, **kwargs)\n",
    "                            else:\n",
    "                                graph.add_edge(opponent_id, player_id, **kwargs)\n",
    "                        break\n",
    "    #print('{}{}'.format(indent, counter))"
   ]
  },
  {
   "cell_type": "code",
   "execution_count": null,
   "metadata": {
    "collapsed": false
   },
   "outputs": [],
   "source": [
    "G = nx.DiGraph()\n",
    "player = players.find_one({'last_name': 'Huck', 'first_name': 'Patrick'})\n",
    "get_player_graph(player, graph=G)\n",
    "print(G.nodes(data=True))\n",
    "print(G.edges(data=True))"
   ]
  }
 ],
 "metadata": {
  "kernelspec": {
   "display_name": "Python 3",
   "language": "python",
   "name": "python3"
  },
  "language_info": {
   "codemirror_mode": {
    "name": "ipython",
    "version": 3
   },
   "file_extension": ".py",
   "mimetype": "text/x-python",
   "name": "python",
   "nbconvert_exporter": "python",
   "pygments_lexer": "ipython3",
   "version": "3.4.3"
  }
 },
 "nbformat": 4,
 "nbformat_minor": 0
}
