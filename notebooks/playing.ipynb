{
 "cells": [
  {
   "cell_type": "code",
   "execution_count": null,
   "metadata": {
    "collapsed": false
   },
   "outputs": [],
   "source": [
    "import pymongo, itertools, collections\n",
    "import networkx as nx\n",
    "import matplotlib.pyplot as plt\n",
    "from circos import CircosPlot\n",
    "from hiveplot import HivePlot\n",
    "%matplotlib inline"
   ]
  },
  {
   "cell_type": "code",
   "execution_count": null,
   "metadata": {
    "collapsed": false
   },
   "outputs": [],
   "source": [
    "client = pymongo.MongoClient('mongodb://localhost:27017')\n",
    "players, matches = client['usta'].players, client['usta'].matches\n",
    "print(players.count(), matches.count())"
   ]
  },
  {
   "cell_type": "code",
   "execution_count": null,
   "metadata": {
    "collapsed": false
   },
   "outputs": [],
   "source": [
    "def get_total_games(score):\n",
    "    return sum([int(s[0]) + int(s[1]) for s in score])\n",
    "\n",
    "def pretty_score(score):\n",
    "    return ','.join(['-'.join(s) for s in score])\n",
    "\n",
    "def is_bagel(score):\n",
    "    return all([not int(s[1]) for s in score])\n",
    "\n",
    "score = ['76', '64']\n",
    "assert(get_total_games(score) == 23)\n",
    "assert(pretty_score(score) == '7-6,6-4')\n",
    "assert(is_bagel(score) == False)\n",
    "assert(is_bagel(['60', '30']) == True)"
   ]
  },
  {
   "cell_type": "code",
   "execution_count": null,
   "metadata": {
    "collapsed": false
   },
   "outputs": [],
   "source": [
    "def get_player_graph(player, prev_player_id=None, graph=None):\n",
    "    indent = '\\t' if prev_player_id is not None else ''\n",
    "    player_id = int(player['_id'])\n",
    "    player_full_name = ' '.join([player['first_name'], player['last_name']])\n",
    "    print('{}{}: {} ({})'.format(\n",
    "        indent, player_id, player_full_name, player['rating_level']\n",
    "    ))\n",
    "    if prev_player_id is None and graph is not None:\n",
    "        player_rating = player['rating_level'] - 0.25 # start in the middle\n",
    "        kwargs = dict(\n",
    "            name=player_full_name, rating=player_rating,\n",
    "            level='{0:.1f}'.format(player['rating_level'])\n",
    "        )\n",
    "        graph.add_node(player_id, **kwargs)\n",
    "    counter = collections.Counter()\n",
    "    query = {'$or': []}\n",
    "    # sd_keys, wl_keys = ['singles', 'doubles'], ['winner', 'loser']\n",
    "    sd_keys, wl_keys = ['singles'], ['winner', 'loser']\n",
    "    for key in itertools.product(sd_keys, wl_keys):\n",
    "        query['$or'].append({'.'.join(key): player_id})\n",
    "    for match in matches.find(query):\n",
    "        individual_match_found = False\n",
    "        for sd in sd_keys:\n",
    "            for individual_match in match[sd]:\n",
    "                if individual_match_found:\n",
    "                    break\n",
    "                for iwl, wl in enumerate(wl_keys):\n",
    "                    if individual_match[wl] == player_id or (\n",
    "                        isinstance(individual_match[wl], list) and \\\n",
    "                        player_id in individual_match[wl]\n",
    "                    ):\n",
    "                        individual_match_found = True\n",
    "                        score = individual_match['score']\n",
    "                        opponent_id = individual_match[wl_keys[int(not(iwl))]]\n",
    "                        if (\n",
    "                            get_total_games(score) < 6 or # less than 1 set played\n",
    "                            is_bagel(score) or # skip bagels\n",
    "                            opponent_id is None or # default\n",
    "                            opponent_id == prev_player_id # already added                         \n",
    "                        ):\n",
    "                            break\n",
    "                        counter['{}.{}'.format(sd, wl)] += 1\n",
    "                        win_or_loss = wl[0].upper()\n",
    "                        opponent = players.find_one({'_id': str(opponent_id)})\n",
    "                        opponent_full_name = ' '.join([opponent['first_name'], opponent['last_name']])\n",
    "                        print(\n",
    "                            '{}{}:'.format(indent, match['_id']), win_or_loss,\n",
    "                            pretty_score(score), '\\tvs', opponent_full_name, '({})'.format(opponent_id)\n",
    "                        )\n",
    "                        if prev_player_id is None: # only go one level down\n",
    "                            get_player_graph(opponent, prev_player_id=player_id, graph=graph)\n",
    "                        if graph is not None:\n",
    "                            opponent_rating = opponent['rating_level'] - 0.25 # start in the middle\n",
    "                            kwargs = dict(\n",
    "                                name=opponent_full_name, rating=opponent_rating,\n",
    "                                level='{0:.1f}'.format(opponent['rating_level'])\n",
    "                            )\n",
    "                            graph.add_node(opponent_id, **kwargs)\n",
    "                        if graph is not None:\n",
    "                            kwargs = dict(score=score, date=match['date'])\n",
    "                            if win_or_loss == 'W':\n",
    "                                graph.add_edge(player_id, opponent_id, **kwargs)\n",
    "                            else:\n",
    "                                graph.add_edge(opponent_id, player_id, **kwargs)\n",
    "                        break\n",
    "    #print('{}{}'.format(indent, counter))"
   ]
  },
  {
   "cell_type": "code",
   "execution_count": null,
   "metadata": {
    "collapsed": false
   },
   "outputs": [],
   "source": [
    "G = nx.DiGraph()\n",
    "player = players.find_one({'last_name': 'Huck', 'first_name': 'Patrick'})\n",
    "get_player_graph(player, graph=G)\n",
    "# print(G.nodes(data=True))\n",
    "# print(G.edges(data=True))"
   ]
  },
  {
   "cell_type": "code",
   "execution_count": null,
   "metadata": {
    "collapsed": false
   },
   "outputs": [],
   "source": [
    "def crd(score):\n",
    "    \"\"\"\n",
    "    CRD - Computer Rated Differential (numerical value for the difference in score)\n",
    "    \n",
    "    One way to assign a value to a specific score, is to count the number of service breaks\n",
    "    and scale it to a value appropriate for NTRP ratings. For instance, at-level/true 4.5\n",
    "    players should populate the core of the 4.5 interval. Defining the core of a 0.5-wide\n",
    "    interval as its inner 90%, yields the range 4.05 - 4.45. An average upper 4.5 player\n",
    "    would then correspond to a 4.35 rating and a lower 4.5 player to 4.15. A good scale for\n",
    "    the CRD reflects the fact that an upper 4.5 player routinely beats a lower 4.5 player.\n",
    "    A sensible choice for a routine but competitive win is a score of 6-3/6-3 or 6-3/6-2. The\n",
    "    number of service breaks in these cases should hence be equivalent to the difference of\n",
    "    0.2 between an upper and a lower 4.5 player. A 6-3/6-3 win entails 3 service breaks whereas\n",
    "    the a 6-3/6-2 win could be counted as 3.5 service breaks. Assigning a scaling factor of 0.06\n",
    "    for each service break is thus a good choice and results in CRDs of 0.18 and 0.21, respectively.\n",
    "    \"\"\"\n",
    "    nb_total = 0. # total number of breaks (weighted)\n",
    "    for i,s in enumerate(score):\n",
    "        nb = (int(s[0]) - int(s[1]))/2. # number of breaks\n",
    "        nb_total += nb * 0.5 if i == 2 else nb # third set counts half\n",
    "    return nb_total * 0.06\n",
    "\n",
    "assert(crd(['75', '57', '10']) == 0.015)\n",
    "assert(crd(['64', '46', '64']) == 0.03)\n",
    "assert(crd(['75', '57', '75']) == 0.03)\n",
    "assert(crd(['75', '57', '63']) == 0.045)\n",
    "assert(crd(['75', '57', '61']) == 0.075)\n",
    "assert(crd(['76', '76']) == 0.06)\n",
    "assert(crd(['76', '64']) == 0.09)\n",
    "assert(crd(['64', '64']) == 0.12)\n",
    "assert(crd(['63', '64']) == 0.15)\n",
    "assert(crd(['63', '63']) == 0.18)\n",
    "assert(crd(['75', '62']) == 0.18)\n",
    "assert(crd(['62', '63']) == 0.21)\n",
    "assert(crd(['62', '62']) == 0.24)\n",
    "assert(crd(['63', '61']) == 0.24)\n",
    "\n",
    "assert(crd(['61', '62']) == 0.265)\n",
    "assert(crd(['63', '60']) == 0.27)\n",
    "assert(crd(['62', '60']) == 0.295)\n",
    "assert(crd(['61', '61']) == 0.295)\n",
    "assert(crd(['61', '60']) == 0.325)"
   ]
  },
  {
   "cell_type": "code",
   "execution_count": null,
   "metadata": {
    "collapsed": false
   },
   "outputs": [],
   "source": [
    "edges = sorted(G.edges(data=True), key=lambda x: x[-1]['date'])\n",
    "for winner_id, loser_id, d in edges:\n",
    "    winner_rating = G.node[winner_id]['rating']\n",
    "    loser_rating = G.node[loser_id]['rating']\n",
    "    print(winner_rating, loser_rating, d['score'])"
   ]
  },
  {
   "cell_type": "code",
   "execution_count": null,
   "metadata": {
    "collapsed": false
   },
   "outputs": [],
   "source": [
    "# nx.draw(G)\n",
    "fig = plt.figure(figsize=(6,6))\n",
    "ax = fig.add_subplot(111)\n",
    "\n",
    "nodes = sorted(G.nodes())\n",
    "edges = G.edges()\n",
    "node_cmap = {'4.0': 'blue', '4.5': 'red', '5.0': 'green'}\n",
    "nodecolors = [node_cmap[G.node[n]['level']] for n in G.nodes()]\n",
    "\n",
    "c = CircosPlot(nodes, edges, radius=10, ax=ax, fig=fig, nodecolor=nodecolors)\n",
    "c.draw()"
   ]
  },
  {
   "cell_type": "code",
   "execution_count": null,
   "metadata": {
    "collapsed": false
   },
   "outputs": [],
   "source": [
    "nodes = dict(\n",
    "    (level, [n for n,d in G.nodes(data=True) if d['level'] == level])\n",
    "    for level in ['4.0', '4.5', '5.0']\n",
    ")\n",
    "edges = dict(group1=G.edges(data=True))\n",
    "edge_cmap = dict(group1='black')\n",
    "h = HivePlot(nodes, edges, node_cmap, edge_cmap)\n",
    "h.draw()"
   ]
  },
  {
   "cell_type": "code",
   "execution_count": null,
   "metadata": {
    "collapsed": false
   },
   "outputs": [],
   "source": [
    "# sorted([(n, G.neighbors(n)) for n in G.nodes()], key=lambda x: len(x[1]), reverse=True)\n",
    "# print(nx.degree_centrality(G))\n",
    "# print(nx.has_path(G, 400, 1))\n",
    "fig = plt.figure(0)\n",
    "degree_centralities = list(nx.degree_centrality(G).values())\n",
    "plt.hist(degree_centralities)\n",
    "plt.title('Degree Centralities')"
   ]
  }
 ],
 "metadata": {
  "kernelspec": {
   "display_name": "Python 3",
   "language": "python",
   "name": "python3"
  },
  "language_info": {
   "codemirror_mode": {
    "name": "ipython",
    "version": 3
   },
   "file_extension": ".py",
   "mimetype": "text/x-python",
   "name": "python",
   "nbconvert_exporter": "python",
   "pygments_lexer": "ipython3",
   "version": "3.5.2"
  }
 },
 "nbformat": 4,
 "nbformat_minor": 0
}
