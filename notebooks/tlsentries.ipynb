{
 "cells": [
  {
   "cell_type": "code",
   "execution_count": 81,
   "metadata": {
    "collapsed": false
   },
   "outputs": [
    {
     "name": "stdout",
     "output_type": "stream",
     "text": [
      "The autoreload extension is already loaded. To reload it, use:\n",
      "  %reload_ext autoreload\n"
     ]
    }
   ],
   "source": [
    "%load_ext autoreload\n",
    "%autoreload 2\n",
    "import pymongo, math, sys, pandas, itertools\n",
    "from usta_tennis.utils import *\n",
    "from usta_tennis.crd import crd\n",
    "from usta_tennis.drv import drv\n",
    "import matplotlib.pyplot as plt\n",
    "%matplotlib inline"
   ]
  },
  {
   "cell_type": "code",
   "execution_count": 42,
   "metadata": {
    "collapsed": false
   },
   "outputs": [
    {
     "data": {
      "text/plain": [
       "801400"
      ]
     },
     "execution_count": 42,
     "metadata": {},
     "output_type": "execute_result"
    }
   ],
   "source": [
    "client = pymongo.MongoClient('mongodb://localhost:27017')\n",
    "players, matches, tlsentries = client['usta'].players, client['usta'].matches, client['usta'].tlsentries\n",
    "tlsentries.count()"
   ]
  },
  {
   "cell_type": "code",
   "execution_count": 57,
   "metadata": {
    "collapsed": false
   },
   "outputs": [],
   "source": [
    "entries = tlsentries.aggregate([\n",
    "        {'$match': {'section': 'No. California', 'area': 'East Bay (EB)', 'year': 2016}},\n",
    "        {'$group': {'_id': '$name', 'num': {'$sum': 1}}},\n",
    "        {'$sort': {'num': -1}},\n",
    "    ])\n",
    "sd_keys, wl_keys = ['singles', 'doubles'], ['winner', 'loser']\n",
    "last_names = [entry['_id'].split()[-1] for entry in entries]\n",
    "player_ids = list(map(int, players.find({'last_name': {'$in': last_names}}).distinct('_id')))"
   ]
  },
  {
   "cell_type": "code",
   "execution_count": 78,
   "metadata": {
    "collapsed": false
   },
   "outputs": [
    {
     "name": "stdout",
     "output_type": "stream",
     "text": [
      "179173 Kim Iliffe 8\n"
     ]
    }
   ],
   "source": [
    "for player_id in player_ids:\n",
    "    query = {'$or': []}\n",
    "    for key in itertools.product(sd_keys, wl_keys):\n",
    "        query['$or'].append({'.'.join(key): player_id})\n",
    "    player_matches = list(matches.find(query).sort('date'))\n",
    "    if not player_matches:\n",
    "        continue\n",
    "    player = players.find_one({'_id': str(player_id)})\n",
    "    name = ' '.join([player['first_name'], player['last_name']])\n",
    "    player_entries = tlsentries.find({'name': name, 'year': 2016})\n",
    "    nmatches = sum([sum(entry['matches'].values()) for entry in player_entries])\n",
    "    if nmatches != len(player_matches):\n",
    "        continue\n",
    "    print(player_id, name, nmatches)\n",
    "    break"
   ]
  },
  {
   "cell_type": "code",
   "execution_count": 79,
   "metadata": {
    "collapsed": false
   },
   "outputs": [
    {
     "name": "stdout",
     "output_type": "stream",
     "text": [
      "Kim Iliffe 4.82\n",
      "[{'singles': [{'score': ['62', '61'], 'winner': 105100, 'loser': 221662}], '_id': 441855, 'doubles': [{'score': ['60', '62'], 'winner': [187233, 179173], 'loser': [61893, 3749]}, {'score': ['75', '76'], 'winner': [11657, 162640], 'loser': [53671, 48839]}], 'date': datetime.datetime(2016, 4, 3, 0, 0)}, {'singles': [{'score': ['62', '63'], 'winner': 204825, 'loser': 117940}], '_id': 442962, 'doubles': [{'score': ['63', '61'], 'winner': [96714, 117756], 'loser': [147546, 88665]}, {'score': ['06', '62', '10'], 'winner': [187233, 179173], 'loser': [77143, 33284]}], 'date': datetime.datetime(2016, 4, 24, 0, 0)}, {'singles': [{'score': ['60', '62'], 'winner': 135506, 'loser': 215452}], '_id': 444058, 'doubles': [{'score': ['62', '63'], 'winner': [69841, 64311], 'loser': [105100, 182033]}, {'score': ['62', '64'], 'winner': [179173, 187233], 'loser': [48874, 202244]}], 'date': datetime.datetime(2016, 5, 1, 0, 0)}, {'singles': [{'score': ['46', '61', '10'], 'winner': 35448, 'loser': 135506}], '_id': 445159, 'doubles': [{'score': ['62', '75'], 'winner': [40254, 115003], 'loser': [42279, 147546]}, {'score': ['62', '46', '10'], 'winner': [176194, 17799], 'loser': [179173, 187233]}], 'date': datetime.datetime(2016, 5, 14, 0, 0)}, {'singles': [{'score': ['62', '62'], 'winner': 204825, 'loser': 120360}], '_id': 445166, 'doubles': [{'score': ['63', '75'], 'winner': [179173, 187233], 'loser': [36035, 50769]}, {'score': ['62', '62'], 'winner': [162640, 88665], 'loser': [22631, 55903]}], 'date': datetime.datetime(2016, 5, 22, 0, 0)}, {'singles': [{'score': ['60', '63'], 'winner': 179173, 'loser': 155479}], '_id': 446266, 'doubles': [{'score': ['36', '76', '10'], 'winner': [202244, 61179], 'loser': [147546, 130609]}, {'score': ['62', '75'], 'winner': [88665, 187233], 'loser': [106459, 131656]}], 'date': datetime.datetime(2016, 6, 4, 0, 0)}, {'singles': [{'score': ['60', '64'], 'winner': 105100, 'loser': 113277}], '_id': 444063, 'doubles': [{'score': ['62', '64'], 'winner': [207972, 148148], 'loser': [5422, 179173]}, {'score': ['16', '62', '10'], 'winner': [61893, 3749], 'loser': [162640, 11657]}], 'date': datetime.datetime(2016, 6, 8, 0, 0)}, {'singles': [{'score': ['76', '62'], 'winner': 116787, 'loser': 105100}], '_id': 453564, 'doubles': [{'score': ['63', '60'], 'winner': [96714, 117756], 'loser': [187233, 179173]}, {'score': ['64', '61'], 'winner': [77143, 57548], 'loser': [5422, 130609]}], 'date': datetime.datetime(2016, 7, 10, 0, 0)}]\n"
     ]
    }
   ],
   "source": [
    "player_id, name = 179173, 'Kim Iliffe'\n",
    "player = players.find_one({'_id': str(player_id)})\n",
    "player_entries = tlsentries.find({'name': name, 'year': 2016})\n",
    "print(name, list(player_entries)[0]['rating'])\n",
    "print(player_matches)"
   ]
  }
 ],
 "metadata": {
  "kernelspec": {
   "display_name": "Python 3",
   "language": "python",
   "name": "python3"
  },
  "language_info": {
   "codemirror_mode": {
    "name": "ipython",
    "version": 3
   },
   "file_extension": ".py",
   "mimetype": "text/x-python",
   "name": "python",
   "nbconvert_exporter": "python",
   "pygments_lexer": "ipython3",
   "version": "3.5.2"
  }
 },
 "nbformat": 4,
 "nbformat_minor": 0
}
