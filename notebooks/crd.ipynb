{
 "cells": [
  {
   "cell_type": "code",
   "execution_count": null,
   "metadata": {
    "collapsed": false
   },
   "outputs": [],
   "source": [
    "%load_ext autoreload\n",
    "%autoreload 2\n",
    "from usta_tennis.crd import crd\n",
    "from itertools import product\n",
    "import matplotlib.pyplot as plt\n",
    "%matplotlib inline"
   ]
  },
  {
   "cell_type": "code",
   "execution_count": null,
   "metadata": {
    "collapsed": false
   },
   "outputs": [],
   "source": [
    "set_scores = ['{}{}'.format(6 + (1 if n > 4 else 0), n) for n in range(7)]\n",
    "scores = {}\n",
    "for score in product(set_scores, set_scores):\n",
    "    diff, nb = 0, 0\n",
    "    for s in score:\n",
    "        gw, gl = map(int, s)\n",
    "        nb += float(gw-gl)/2\n",
    "        diff += gw - gl\n",
    "    if not diff in scores:\n",
    "        scores[diff] = []\n",
    "    plt.scatter(diff, crd(score))\n",
    "    scores[diff].append(score)\n",
    "plt.show()\n",
    "# print(scores)\n",
    "    "
   ]
  },
  {
   "cell_type": "code",
   "execution_count": null,
   "metadata": {
    "collapsed": false
   },
   "outputs": [],
   "source": [
    "print(crd(['76', '06', '64']))\n",
    "print(crd(['76', '06', '64']))\n",
    "# print(crd(['76', '06', '64']))\n",
    "# print(crd(['76', '06', '64']))"
   ]
  }
 ],
 "metadata": {
  "kernelspec": {
   "display_name": "Python 3",
   "language": "python",
   "name": "python3"
  },
  "language_info": {
   "codemirror_mode": {
    "name": "ipython",
    "version": 3
   },
   "file_extension": ".py",
   "mimetype": "text/x-python",
   "name": "python",
   "nbconvert_exporter": "python",
   "pygments_lexer": "ipython3",
   "version": "3.5.2"
  }
 },
 "nbformat": 4,
 "nbformat_minor": 0
}
