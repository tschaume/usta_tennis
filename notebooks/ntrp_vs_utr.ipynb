{
 "cells": [
  {
   "cell_type": "code",
   "execution_count": null,
   "metadata": {
    "collapsed": false
   },
   "outputs": [],
   "source": [
    "from plotly.offline import download_plotlyjs, init_notebook_mode, plot, iplot\n",
    "init_notebook_mode(connected=True)\n",
    "from pymongo import MongoClient\n",
    "client = MongoClient()#(host='localhost', port=9999)\n",
    "players = client['usta']['trentries']"
   ]
  },
  {
   "cell_type": "code",
   "execution_count": null,
   "metadata": {
    "collapsed": false
   },
   "outputs": [],
   "source": [
    "players.count()"
   ]
  },
  {
   "cell_type": "code",
   "execution_count": null,
   "metadata": {
    "collapsed": false
   },
   "outputs": [],
   "source": [
    "from plotly.graph_objs import *\n",
    "from plotly import tools\n",
    "import numpy as np\n",
    "from scipy.optimize import curve_fit"
   ]
  },
  {
   "cell_type": "code",
   "execution_count": null,
   "metadata": {
    "collapsed": false
   },
   "outputs": [],
   "source": [
    "gender = 'Male'\n",
    "utr_players = list(players.find({\n",
    "    'utr.doubles.rating': {'$gt': 1.005},\n",
    "    'info.gender': gender,\n",
    "    'utr.doubles.status': {'$in': ['Rated', 'Projected']}\n",
    "}))\n",
    "print(len(utr_players), '/', players.count(), gender.lower(), 'players with UTR doubles rating')"
   ]
  },
  {
   "cell_type": "code",
   "execution_count": null,
   "metadata": {
    "collapsed": false
   },
   "outputs": [],
   "source": [
    "data = {}\n",
    "nr_progress_bins = 3\n",
    "progress_bin_width = 1./nr_progress_bins\n",
    "fmt = 'doubles'\n",
    "\n",
    "for player in utr_players:\n",
    "    name = player['info']['name']\n",
    "    ntrp = player['tr']['EstimatedDynamic']    \n",
    "    utr = player['utr'][fmt]['rating']\n",
    "    status = player['utr'][fmt]['status']\n",
    "    progress = player['utr'][fmt]['progress']\n",
    "\n",
    "    key = status\n",
    "    if status == 'Projected':\n",
    "        progress_bin = int(np.floor(progress/progress_bin_width))\n",
    "        key = '{}-{}'.format(key, progress_bin) if progress_bin < nr_progress_bins else 'Rated'\n",
    "\n",
    "    if not key in data:\n",
    "        data[key] = dict(\n",
    "            x=[], y=[], mode='markers', text=[], name=key\n",
    "        )\n",
    "    data[key]['x'].append(np.log(utr))\n",
    "    data[key]['y'].append(ntrp)\n",
    "    data[key]['text'].append(name)\n",
    "\n",
    "print(dict((k, len(v['x'])) for k, v in data.items()))\n",
    "print(sum(len(v['x']) for v in data.values()))"
   ]
  },
  {
   "cell_type": "code",
   "execution_count": null,
   "metadata": {
    "collapsed": false,
    "scrolled": true
   },
   "outputs": [],
   "source": [
    "def func(x, a, b, c, d):\n",
    "    return a * np.arctan(b * (x - c)) + d\n",
    "\n",
    "pars, lines, funcs, xi = {}, {}, {}, {}\n",
    "cutoffs = {'Rated': 0.6, 'Projected': 0.75}\n",
    "projected = ['Projected-{}'.format(pb) for pb in range(nr_progress_bins)]\n",
    "\n",
    "for it in [0, 1]:\n",
    "    for key in ['Rated'] + projected:\n",
    "\n",
    "        if it:\n",
    "            l = list(zip(list(data[key]['x']), list(data[key]['y'])))\n",
    "            c = 0\n",
    "            k = key.split('-')[0]\n",
    "            for idx, (x, y) in enumerate(l):\n",
    "                if abs(y-funcs[key](x, *(pars[key]))) > cutoffs[k]:\n",
    "                    data[key]['x'].pop(c)\n",
    "                    data[key]['y'].pop(c)\n",
    "                    data[key]['text'].pop(c)\n",
    "                    c -= 1\n",
    "                c += 1\n",
    "       \n",
    "        xvals = np.array(data[key]['x'])\n",
    "        yvals = np.array(data[key]['y'])\n",
    "        \n",
    "        funcs[key] = func\n",
    "        if 'Projected' in key:\n",
    "            a, b, c, d = [p for p in pars['Rated']]\n",
    "            funcs[key] = lambda x, c, d: func(x, a, b, c, d)\n",
    "            \n",
    "        pars[key], pcov = curve_fit(funcs[key], xvals, yvals)\n",
    "        xi[key] = np.linspace(0, 2.7, num=100)\n",
    "        lines[key] = funcs[key](xi[key], *(pars[key]))\n",
    "        print(it, key, *(pars[key]))"
   ]
  },
  {
   "cell_type": "code",
   "execution_count": null,
   "metadata": {
    "collapsed": false
   },
   "outputs": [],
   "source": [
    "keys = ['Rated'] + projected[::-1]\n",
    "fig = tools.make_subplots(\n",
    "    rows=2, cols=2, #shared_xaxes=True, shared_yaxes=True,\n",
    "    subplot_titles=keys\n",
    ")\n",
    "nbins_x = 7\n",
    "bw_x = max([max(data[k]['x'])+0.01 for k in data.keys()]) / nbins_x\n",
    "avg_widths = {}\n",
    "\n",
    "for ikey, key in enumerate(keys):\n",
    "\n",
    "    yvals = [[] for n in range(nbins_x)]\n",
    "    l = list(zip(list(data[key]['x']), list(data[key]['y'])))\n",
    "    for idx, (x, y) in enumerate(l):\n",
    "        nbin = int(x/bw_x)\n",
    "        yvals[nbin].append(y)\n",
    "\n",
    "    widths = [np.std(ys) for ys in yvals]\n",
    "    nx, ny = int(ikey/2)+1, ikey%2+1\n",
    "    avg_widths[key] = np.average(widths)\n",
    "    if 'Projected' in key:\n",
    "        print(key, avg_widths[key]/avg_widths['Rated'])\n",
    "\n",
    "    for n in range(nbins_x):\n",
    "        fig.append_trace(\n",
    "            Histogram(\n",
    "                x=yvals[n], opacity=0.75,\n",
    "                name='{:.2f}-{:.2f}'.format(n*bw_x, (n+1)*bw_x)\n",
    "            ), nx, ny\n",
    "        )\n",
    "\n",
    "fig['layout'].update(title='widths for NTRP distributions', barmode='overlay', showlegend=False)\n",
    "iplot(fig)"
   ]
  },
  {
   "cell_type": "code",
   "execution_count": null,
   "metadata": {
    "collapsed": false
   },
   "outputs": [],
   "source": [
    "def inv_func(ntrp, p):\n",
    "    # ntrp = a atan(b*(ln(utr)-c)) + d\n",
    "    # ln(utr) = tan[(ntrp - d)/a]/b + c\n",
    "    return np.tan((ntrp-p[3])/p[0])/p[1] + p[2]\n",
    "\n",
    "for key in projected:\n",
    "    xs = pars[key][0] - pars['Rated'][2]\n",
    "    ys = pars[key][1] - pars['Rated'][3]\n",
    "    l = zip(data[key]['x'], data[key]['y'])\n",
    "    p = list(pars['Rated'][:2]) + list(pars[key])\n",
    "    print(xs, ys, p)\n",
    "\n",
    "    for idx in range(len(data[key]['x'])):\n",
    "        y0 = funcs[key](data[key]['x'][idx], *(pars[key]))\n",
    "        dy = data[key]['y'][idx] - y0\n",
    "        dy_corr = abs(dy) / avg_widths[key] * avg_widths['Rated']\n",
    "        data[key]['y'][idx] = y0 + np.sign(dy) * dy_corr - ys\n",
    "        xfac = inv_func(data[key]['y'][idx], pars['Rated'])\n",
    "        xfac /= inv_func(data[key]['y'][idx], p)\n",
    "        data[key]['x'][idx] *= xfac\n",
    "\n",
    "    for idx, x in enumerate(xi[key]):\n",
    "        lines[key][idx] -= ys\n",
    "        xfac = inv_func(lines[key][idx], pars['Rated'])\n",
    "        xfac /= inv_func(lines[key][idx], p)\n",
    "        xi[key][idx] *= xfac"
   ]
  },
  {
   "cell_type": "code",
   "execution_count": null,
   "metadata": {
    "collapsed": false
   },
   "outputs": [],
   "source": [
    "plotly_data = []\n",
    "for key in keys:\n",
    "    print(len(data[key]['x']))\n",
    "    plotly_data.append(Scatter(data[key]))\n",
    "for key in keys:\n",
    "    plotly_data.append(Scatter(x=xi[key], y=lines[key], mode='lines', name=key))\n",
    "layout = Layout(xaxis=dict(title='ln(UTR)'), yaxis=dict(title='NTRP'))\n",
    "figure = Figure(data=plotly_data, layout=layout)\n",
    "iplot(figure)"
   ]
  },
  {
   "cell_type": "code",
   "execution_count": null,
   "metadata": {
    "collapsed": true
   },
   "outputs": [],
   "source": [
    "def avg_rating(ntrp, utr, progress):\n",
    "    max_utr_corr = inv_func(ntrp, pars['Projected']) - inv_func(ntrp, pars['Rated'])\n",
    "    print(ntrp, np.log(utr), max_utr_corr)\n",
    "    utr_corr = np.log(utr) - (1-progress) * max_utr_corr\n",
    "    utr2ntrp = func(utr_corr, *(pars['Rated']))\n",
    "    return utr2ntrp"
   ]
  },
  {
   "cell_type": "code",
   "execution_count": null,
   "metadata": {
    "collapsed": true
   },
   "outputs": [],
   "source": [
    "import operator\n",
    "from pprint import pprint"
   ]
  },
  {
   "cell_type": "code",
   "execution_count": null,
   "metadata": {
    "collapsed": true
   },
   "outputs": [],
   "source": [
    "davie = [\n",
    "    'Jas Hodzic', 'Jeffrey Wilson', 'Daniel Keolasy', 'Daniel Brandt', 'David Hauser', 'Aaron George', 'Eric Krueger',\n",
    "    'Patrick Huck', 'Vikas Punna', 'Christopher Belloli', 'Abhinauv Venugopal', 'David Richmond', 'Jaco Raubenheimer',\n",
    "    'Jan Vejsada', 'Ryan Thompson', 'Santi Soumpholphakdy', 'Mark McKeen', 'Steven K. Wang', 'Jeff Machle', 'Dave Ochoa',\n",
    "    'Chris Unno', 'Brian Barlay', 'Wayne Hagstrom', 'Lucas Goldstein', 'John Booker', 'Michael Rennels'\n",
    "]"
   ]
  },
  {
   "cell_type": "code",
   "execution_count": null,
   "metadata": {
    "collapsed": false
   },
   "outputs": [],
   "source": [
    "davie_data = {}\n",
    "# wait for UTR to import full combo season\n",
    "for name in davie:\n",
    "    player = players.find_one({'info.name': name})\n",
    "    if player is None or 'utr' not in player:\n",
    "        print('no NTRP for', name)\n",
    "        continue\n",
    "\n",
    "    name = player['info']['name']\n",
    "    ntrp = player['tr']['EstimatedDynamic']\n",
    "    utr = player['utr']['doubles']['rating']\n",
    "    progress = player['utr']['doubles']['progress']\n",
    "    avg = None\n",
    "\n",
    "    if isinstance(utr, str):\n",
    "        print('no doubles UTR for', name, '-> using NTRP only')\n",
    "        avg = ntrp\n",
    "        \n",
    "    progress = 1. if progress is None else progress\n",
    "    avg = avg_rating(ntrp, utr, progress) if avg is None else avg\n",
    "        \n",
    "    davie_data[name] = float('{:.3f}'.format(avg))\n",
    "\n",
    "pprint(sorted(davie_data.items(), key=operator.itemgetter(1), reverse=True))"
   ]
  },
  {
   "cell_type": "code",
   "execution_count": null,
   "metadata": {
    "collapsed": true
   },
   "outputs": [],
   "source": []
  }
 ],
 "metadata": {
  "kernelspec": {
   "display_name": "Python 3",
   "language": "python",
   "name": "python3"
  },
  "language_info": {
   "codemirror_mode": {
    "name": "ipython",
    "version": 3
   },
   "file_extension": ".py",
   "mimetype": "text/x-python",
   "name": "python",
   "nbconvert_exporter": "python",
   "pygments_lexer": "ipython3",
   "version": "3.5.2"
  }
 },
 "nbformat": 4,
 "nbformat_minor": 0
}
