{
 "cells": [
  {
   "cell_type": "code",
   "execution_count": null,
   "metadata": {
    "collapsed": false
   },
   "outputs": [],
   "source": [
    "from plotly.offline import download_plotlyjs, init_notebook_mode, plot, iplot\n",
    "init_notebook_mode(connected=True)\n",
    "from pymongo import MongoClient\n",
    "client = MongoClient()\n",
    "players = client['usta']['trentries']"
   ]
  },
  {
   "cell_type": "code",
   "execution_count": null,
   "metadata": {
    "collapsed": true
   },
   "outputs": [],
   "source": [
    "from plotly.graph_objs import *"
   ]
  },
  {
   "cell_type": "code",
   "execution_count": null,
   "metadata": {
    "collapsed": false
   },
   "outputs": [],
   "source": [
    "utr_error = 0.05\n",
    "data = {}\n",
    "\n",
    "for player in players.find({'utr': {'$exists': 1}}):\n",
    "    name = player['info']['name']\n",
    "    gender = player['info']['gender']\n",
    "    ntrp = player['tr']['EstimatedDynamic']\n",
    "\n",
    "    fmt = 'doubles' # TODO separate singles and doubles for comparison?\n",
    "    utr = player['utr'][fmt]['rating']\n",
    "    if isinstance(utr, str):\n",
    "        # player found but unrated in doubles -> use singles\n",
    "        fmt = 'singles'\n",
    "        utr = player['utr'][fmt]['rating']\n",
    "    \n",
    "    status = player['utr'][fmt]['status']\n",
    "    key = ' '.join([status, gender])\n",
    "    if not key in data:\n",
    "        data[key] = dict(\n",
    "            x=[], y=[], mode='markers', text=[], name=key\n",
    "        )\n",
    "    data[key]['x'].append(utr)\n",
    "    data[key]['y'].append(ntrp)\n",
    "    data[key]['text'].append(name)\n",
    "\n",
    "    #     if status != 'Rated':\n",
    "#         progress = player['utr'][fmt]['progress']\n",
    "#         #print(utr, progress)\n",
    "#         error = 1./progress*utr_error\n",
    "#         #print('error =', error)\n",
    "\n",
    "print(sum(len(d['x']) for d in data.values()))\n",
    "data = [Scatter(d) for d in data.values()]\n",
    "layout = Layout(xaxis=dict(title='UTR'), yaxis=dict(title='NTRP'))\n",
    "figure = Figure(data=data, layout=layout)\n",
    "iplot(figure)"
   ]
  },
  {
   "cell_type": "code",
   "execution_count": null,
   "metadata": {
    "collapsed": true
   },
   "outputs": [],
   "source": []
  }
 ],
 "metadata": {
  "kernelspec": {
   "display_name": "Python 3",
   "language": "python",
   "name": "python3"
  },
  "language_info": {
   "codemirror_mode": {
    "name": "ipython",
    "version": 3
   },
   "file_extension": ".py",
   "mimetype": "text/x-python",
   "name": "python",
   "nbconvert_exporter": "python",
   "pygments_lexer": "ipython3",
   "version": "3.5.2"
  }
 },
 "nbformat": 4,
 "nbformat_minor": 0
}
